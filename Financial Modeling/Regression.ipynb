{
 "cells": [
  {
   "cell_type": "code",
   "execution_count": 1,
   "id": "21135f5d-ad1a-4475-8e62-bcd14e9f6672",
   "metadata": {},
   "outputs": [],
   "source": [
    "import yfinance as yf\n",
    "import matplotlib.pyplot as plt\n",
    "import numpy as np\n",
    "import statsmodels.api as sm\n",
    "import statsmodels.formula.api as smf\n",
    "import matplotlib.pyplot as plt\n",
    "%matplotlib inline\n",
    "from tqdm import tqdm"
   ]
  },
  {
   "cell_type": "code",
   "execution_count": 2,
   "id": "4ee32340-8092-44e2-bac0-54a54603f728",
   "metadata": {},
   "outputs": [],
   "source": [
    "import warnings\n",
    "warnings.filterwarnings(\"ignore\")"
   ]
  },
  {
   "cell_type": "code",
   "execution_count": 3,
   "id": "171df4ed-f69c-46c3-a023-c864beb31fa4",
   "metadata": {},
   "outputs": [],
   "source": [
    "from dqr import dataQuality\n",
    "# report=dataQuality(hist)\n",
    "# report[\"numeric\"]"
   ]
  },
  {
   "cell_type": "code",
   "execution_count": 4,
   "id": "cfe21dfc-b5a2-418b-9f46-505f3ed4a5f1",
   "metadata": {},
   "outputs": [
    {
     "name": "stdout",
     "output_type": "stream",
     "text": [
      "grunfeld\n",
      "::\n",
      "\n",
      "    Number of observations - 220 (20 years for 11 firms)\n",
      "\n",
      "    Number of variables - 5\n",
      "\n",
      "    Variables name definitions::\n",
      "\n",
      "        invest  - Gross investment in 1947 dollars\n",
      "        value   - Market value as of Dec. 31 in 1947 dollars\n",
      "        capital - Stock of plant and equipment in 1947 dollars\n",
      "        firm    - General Motors, US Steel, General Electric, Chrysler,\n",
      "                Atlantic Refining, IBM, Union Oil, Westinghouse, Goodyear,\n",
      "                Diamond Match, American Steel\n",
      "        year    - 1935 - 1954\n",
      "\n",
      "    Note that raw_data has firm expanded to dummy variables, since it is a\n",
      "    string categorical variable.\n",
      "\n"
     ]
    }
   ],
   "source": [
    "# Grunfeld dataset - Investment by firms\n",
    "# Analyze the relationship between a firm's investment (invest), its value of capital stock (value), and capital stock (capital).\n",
    "for d in ['grunfeld']:\n",
    "    df=getattr(sm.datasets,d)\n",
    "    print(d)\n",
    "    print(df.NOTE)"
   ]
  },
  {
   "cell_type": "code",
   "execution_count": 5,
   "id": "13f8aa73-090e-4511-85fc-e37793364b7d",
   "metadata": {},
   "outputs": [],
   "source": [
    "# grunfeld\n",
    "# library(ISLR)\n",
    "# data(Smarket)\n",
    "# head(Smarket)"
   ]
  },
  {
   "cell_type": "code",
   "execution_count": 6,
   "id": "d063c7e2-adae-45dd-8ac8-0ca318630b2f",
   "metadata": {},
   "outputs": [],
   "source": [
    "#Regression\n",
    "#sm.datasets.grunfeld.load_pandas().raw_data"
   ]
  },
  {
   "cell_type": "code",
   "execution_count": 7,
   "id": "e6dabfb0-c155-4dfd-8557-b5fa025cd3c6",
   "metadata": {},
   "outputs": [],
   "source": [
    "#Regression\n",
    "data=sm.datasets.grunfeld.load_pandas().data"
   ]
  },
  {
   "cell_type": "code",
   "execution_count": 8,
   "id": "d5c0a6c1-9ab1-4613-8f2c-58d16283b9fc",
   "metadata": {},
   "outputs": [
    {
     "data": {
      "text/html": [
       "<div>\n",
       "<style scoped>\n",
       "    .dataframe tbody tr th:only-of-type {\n",
       "        vertical-align: middle;\n",
       "    }\n",
       "\n",
       "    .dataframe tbody tr th {\n",
       "        vertical-align: top;\n",
       "    }\n",
       "\n",
       "    .dataframe thead th {\n",
       "        text-align: right;\n",
       "    }\n",
       "</style>\n",
       "<table border=\"1\" class=\"dataframe\">\n",
       "  <thead>\n",
       "    <tr style=\"text-align: right;\">\n",
       "      <th></th>\n",
       "      <th>invest</th>\n",
       "      <th>value</th>\n",
       "      <th>capital</th>\n",
       "      <th>firm</th>\n",
       "      <th>year</th>\n",
       "    </tr>\n",
       "  </thead>\n",
       "  <tbody>\n",
       "    <tr>\n",
       "      <th>0</th>\n",
       "      <td>317.6</td>\n",
       "      <td>3078.5</td>\n",
       "      <td>2.8</td>\n",
       "      <td>General Motors</td>\n",
       "      <td>1935.0</td>\n",
       "    </tr>\n",
       "    <tr>\n",
       "      <th>1</th>\n",
       "      <td>391.8</td>\n",
       "      <td>4661.7</td>\n",
       "      <td>52.6</td>\n",
       "      <td>General Motors</td>\n",
       "      <td>1936.0</td>\n",
       "    </tr>\n",
       "    <tr>\n",
       "      <th>2</th>\n",
       "      <td>410.6</td>\n",
       "      <td>5387.1</td>\n",
       "      <td>156.9</td>\n",
       "      <td>General Motors</td>\n",
       "      <td>1937.0</td>\n",
       "    </tr>\n",
       "    <tr>\n",
       "      <th>3</th>\n",
       "      <td>257.7</td>\n",
       "      <td>2792.2</td>\n",
       "      <td>209.2</td>\n",
       "      <td>General Motors</td>\n",
       "      <td>1938.0</td>\n",
       "    </tr>\n",
       "    <tr>\n",
       "      <th>4</th>\n",
       "      <td>330.8</td>\n",
       "      <td>4313.2</td>\n",
       "      <td>203.4</td>\n",
       "      <td>General Motors</td>\n",
       "      <td>1939.0</td>\n",
       "    </tr>\n",
       "  </tbody>\n",
       "</table>\n",
       "</div>"
      ],
      "text/plain": [
       "   invest   value  capital            firm    year\n",
       "0   317.6  3078.5      2.8  General Motors  1935.0\n",
       "1   391.8  4661.7     52.6  General Motors  1936.0\n",
       "2   410.6  5387.1    156.9  General Motors  1937.0\n",
       "3   257.7  2792.2    209.2  General Motors  1938.0\n",
       "4   330.8  4313.2    203.4  General Motors  1939.0"
      ]
     },
     "execution_count": 8,
     "metadata": {},
     "output_type": "execute_result"
    }
   ],
   "source": [
    "data.head()"
   ]
  },
  {
   "cell_type": "code",
   "execution_count": 9,
   "id": "1d894802-e838-4fce-a751-dfadc9ea2882",
   "metadata": {},
   "outputs": [],
   "source": [
    "report=dataQuality(data)"
   ]
  },
  {
   "cell_type": "code",
   "execution_count": 10,
   "id": "2e6b0f3b-8131-4c91-b63d-8562ce5ef5fc",
   "metadata": {},
   "outputs": [
    {
     "data": {
      "text/plain": [
       "dict_keys(['numeric', 'categorical'])"
      ]
     },
     "execution_count": 10,
     "metadata": {},
     "output_type": "execute_result"
    }
   ],
   "source": [
    "report.keys()"
   ]
  },
  {
   "cell_type": "code",
   "execution_count": 11,
   "id": "80d02900-8f0a-41c9-b04e-d2f08c410119",
   "metadata": {},
   "outputs": [
    {
     "data": {
      "text/html": [
       "<div>\n",
       "<style scoped>\n",
       "    .dataframe tbody tr th:only-of-type {\n",
       "        vertical-align: middle;\n",
       "    }\n",
       "\n",
       "    .dataframe tbody tr th {\n",
       "        vertical-align: top;\n",
       "    }\n",
       "\n",
       "    .dataframe thead th {\n",
       "        text-align: right;\n",
       "    }\n",
       "</style>\n",
       "<table border=\"1\" class=\"dataframe\">\n",
       "  <thead>\n",
       "    <tr style=\"text-align: right;\">\n",
       "      <th></th>\n",
       "      <th>Count</th>\n",
       "      <th>Unique</th>\n",
       "      <th>Miss_per</th>\n",
       "      <th>Min</th>\n",
       "      <th>Max</th>\n",
       "      <th>Mean</th>\n",
       "      <th>Median</th>\n",
       "      <th>Std</th>\n",
       "      <th>Q1</th>\n",
       "      <th>Q3</th>\n",
       "      <th>q99</th>\n",
       "    </tr>\n",
       "  </thead>\n",
       "  <tbody>\n",
       "    <tr>\n",
       "      <th>invest</th>\n",
       "      <td>220.0</td>\n",
       "      <td>215.0</td>\n",
       "      <td>0.0</td>\n",
       "      <td>0.930</td>\n",
       "      <td>1486.7</td>\n",
       "      <td>133.311900</td>\n",
       "      <td>52.365</td>\n",
       "      <td>210.587186</td>\n",
       "      <td>27.380</td>\n",
       "      <td>99.7825</td>\n",
       "      <td>865.493</td>\n",
       "    </tr>\n",
       "    <tr>\n",
       "      <th>value</th>\n",
       "      <td>220.0</td>\n",
       "      <td>218.0</td>\n",
       "      <td>0.0</td>\n",
       "      <td>30.284</td>\n",
       "      <td>6241.7</td>\n",
       "      <td>988.577805</td>\n",
       "      <td>404.650</td>\n",
       "      <td>1287.301172</td>\n",
       "      <td>160.325</td>\n",
       "      <td>1605.9250</td>\n",
       "      <td>5299.282</td>\n",
       "    </tr>\n",
       "    <tr>\n",
       "      <th>capital</th>\n",
       "      <td>220.0</td>\n",
       "      <td>219.0</td>\n",
       "      <td>0.0</td>\n",
       "      <td>0.800</td>\n",
       "      <td>2226.3</td>\n",
       "      <td>257.108541</td>\n",
       "      <td>180.100</td>\n",
       "      <td>293.227914</td>\n",
       "      <td>67.100</td>\n",
       "      <td>344.5000</td>\n",
       "      <td>1388.168</td>\n",
       "    </tr>\n",
       "    <tr>\n",
       "      <th>year</th>\n",
       "      <td>220.0</td>\n",
       "      <td>20.0</td>\n",
       "      <td>0.0</td>\n",
       "      <td>1935.000</td>\n",
       "      <td>1954.0</td>\n",
       "      <td>1944.500000</td>\n",
       "      <td>1944.500</td>\n",
       "      <td>5.779431</td>\n",
       "      <td>1939.750</td>\n",
       "      <td>1949.2500</td>\n",
       "      <td>1954.000</td>\n",
       "    </tr>\n",
       "  </tbody>\n",
       "</table>\n",
       "</div>"
      ],
      "text/plain": [
       "         Count  Unique  Miss_per       Min     Max         Mean    Median  \\\n",
       "invest   220.0   215.0       0.0     0.930  1486.7   133.311900    52.365   \n",
       "value    220.0   218.0       0.0    30.284  6241.7   988.577805   404.650   \n",
       "capital  220.0   219.0       0.0     0.800  2226.3   257.108541   180.100   \n",
       "year     220.0    20.0       0.0  1935.000  1954.0  1944.500000  1944.500   \n",
       "\n",
       "                 Std        Q1         Q3       q99  \n",
       "invest    210.587186    27.380    99.7825   865.493  \n",
       "value    1287.301172   160.325  1605.9250  5299.282  \n",
       "capital   293.227914    67.100   344.5000  1388.168  \n",
       "year        5.779431  1939.750  1949.2500  1954.000  "
      ]
     },
     "execution_count": 11,
     "metadata": {},
     "output_type": "execute_result"
    }
   ],
   "source": [
    "report['numeric']"
   ]
  },
  {
   "cell_type": "code",
   "execution_count": 16,
   "id": "4863e96f-308b-4875-8e8c-4a8a6972ce53",
   "metadata": {},
   "outputs": [
    {
     "data": {
      "text/html": [
       "<div>\n",
       "<style scoped>\n",
       "    .dataframe tbody tr th:only-of-type {\n",
       "        vertical-align: middle;\n",
       "    }\n",
       "\n",
       "    .dataframe tbody tr th {\n",
       "        vertical-align: top;\n",
       "    }\n",
       "\n",
       "    .dataframe thead th {\n",
       "        text-align: right;\n",
       "    }\n",
       "</style>\n",
       "<table border=\"1\" class=\"dataframe\">\n",
       "  <thead>\n",
       "    <tr style=\"text-align: right;\">\n",
       "      <th></th>\n",
       "      <th>Count</th>\n",
       "      <th>Unique</th>\n",
       "      <th>Miss_per</th>\n",
       "      <th>Freq_Level</th>\n",
       "      <th>freq_cat_Per</th>\n",
       "    </tr>\n",
       "  </thead>\n",
       "  <tbody>\n",
       "    <tr>\n",
       "      <th>firm</th>\n",
       "      <td>220</td>\n",
       "      <td>11</td>\n",
       "      <td>0.0</td>\n",
       "      <td>General Motors</td>\n",
       "      <td>0.090909</td>\n",
       "    </tr>\n",
       "  </tbody>\n",
       "</table>\n",
       "</div>"
      ],
      "text/plain": [
       "     Count Unique Miss_per      Freq_Level freq_cat_Per\n",
       "firm   220     11      0.0  General Motors     0.090909"
      ]
     },
     "execution_count": 16,
     "metadata": {},
     "output_type": "execute_result"
    }
   ],
   "source": [
    "report['categorical']"
   ]
  },
  {
   "cell_type": "code",
   "execution_count": 17,
   "id": "42bba5e6-6847-4125-909b-d9e5b6ff3c88",
   "metadata": {},
   "outputs": [
    {
     "data": {
      "text/plain": [
       "year\n",
       "1935.0    0.05\n",
       "1936.0    0.05\n",
       "1937.0    0.05\n",
       "1938.0    0.05\n",
       "1939.0    0.05\n",
       "1940.0    0.05\n",
       "1941.0    0.05\n",
       "1942.0    0.05\n",
       "1943.0    0.05\n",
       "1944.0    0.05\n",
       "1945.0    0.05\n",
       "1946.0    0.05\n",
       "1947.0    0.05\n",
       "1948.0    0.05\n",
       "1949.0    0.05\n",
       "1950.0    0.05\n",
       "1951.0    0.05\n",
       "1952.0    0.05\n",
       "1953.0    0.05\n",
       "1954.0    0.05\n",
       "Name: count, dtype: float64"
      ]
     },
     "execution_count": 17,
     "metadata": {},
     "output_type": "execute_result"
    }
   ],
   "source": [
    "data['year'].value_counts()/data.shape[0]"
   ]
  },
  {
   "cell_type": "code",
   "execution_count": 18,
   "id": "fc43f93d-ec05-451e-88f6-130220069976",
   "metadata": {},
   "outputs": [
    {
     "data": {
      "text/plain": [
       "firm\n",
       "General Motors       20\n",
       "US Steel             20\n",
       "General Electric     20\n",
       "Chrysler             20\n",
       "Atlantic Refining    20\n",
       "IBM                  20\n",
       "Union Oil            20\n",
       "Westinghouse         20\n",
       "Goodyear             20\n",
       "Diamond Match        20\n",
       "American Steel       20\n",
       "Name: count, dtype: int64"
      ]
     },
     "execution_count": 18,
     "metadata": {},
     "output_type": "execute_result"
    }
   ],
   "source": [
    "data['firm'].value_counts()"
   ]
  },
  {
   "cell_type": "code",
   "execution_count": 19,
   "id": "6b525a69-4820-4e30-9b5e-1c5eb51de6ac",
   "metadata": {},
   "outputs": [
    {
     "data": {
      "text/plain": [
       "Text(0, 0.5, 'Capital')"
      ]
     },
     "execution_count": 19,
     "metadata": {},
     "output_type": "execute_result"
    },
    {
     "data": {
      "image/png": "[encoded data removed]",
      "text/plain": [
       "<Figure size 640x480 with 1 Axes>"
      ]
     },
     "metadata": {},
     "output_type": "display_data"
    }
   ],
   "source": [
    "plt.scatter(data['invest'],data['capital'])\n",
    "plt.title(\"Relationship between Investment and Capital\")\n",
    "plt.xlabel(\"Investment\")\n",
    "plt.ylabel(\"Capital\")"
   ]
  },
  {
   "cell_type": "code",
   "execution_count": 17,
   "id": "d1552aae-d02b-48dd-ac77-d7d2f4cc9f1d",
   "metadata": {},
   "outputs": [
    {
     "data": {
      "text/plain": [
       "General Motors    Axes(0.1,0.15;0.8x0.75)\n",
       "dtype: object"
      ]
     },
     "execution_count": 17,
     "metadata": {},
     "output_type": "execute_result"
    },
    {
     "data": {
      "image/png": "[encoded data removed]",
      "text/plain": [
       "<Figure size 640x480 with 1 Axes>"
      ]
     },
     "metadata": {},
     "output_type": "display_data"
    }
   ],
   "source": [
    "data.iloc[np.r_[0,2]].groupby('firm').boxplot()"
   ]
  },
  {
   "cell_type": "code",
   "execution_count": 18,
   "id": "b471d408-0fd7-4b4a-9f45-46df4eb7db0f",
   "metadata": {},
   "outputs": [
    {
     "data": {
      "text/plain": [
       "Index(['invest', 'value', 'capital', 'firm', 'year'], dtype='object')"
      ]
     },
     "execution_count": 18,
     "metadata": {},
     "output_type": "execute_result"
    }
   ],
   "source": [
    "data.columns"
   ]
  },
  {
   "cell_type": "code",
   "execution_count": 19,
   "id": "67b9c25a-9c3a-4ea6-8e29-6929d56c244a",
   "metadata": {},
   "outputs": [],
   "source": [
    "# #Train - Test split\n",
    "# index=data.sample(frac=0.05,random_state=1).index\n",
    "# index"
   ]
  },
  {
   "cell_type": "code",
   "execution_count": 20,
   "id": "7427c69a-953b-480b-a8c7-e7876211a5ee",
   "metadata": {},
   "outputs": [],
   "source": [
    "# train=data.drop(index,axis=0)\n",
    "# train.shape"
   ]
  },
  {
   "cell_type": "code",
   "execution_count": 21,
   "id": "d75d872a-36c6-4ba3-9f2d-7bdd7e872917",
   "metadata": {},
   "outputs": [],
   "source": [
    "# test=data.iloc[index,]\n",
    "# test.shape"
   ]
  },
  {
   "cell_type": "markdown",
   "id": "216f74e3-def4-4c7c-b10b-f5ac38eaeb85",
   "metadata": {},
   "source": [
    "- H0: Beta coefficients = 0 \n",
    "- H1: At least one beta not equal to 0 "
   ]
  },
  {
   "cell_type": "code",
   "execution_count": 22,
   "id": "aa350eca-7385-4f30-a9fb-31fc4ca2c9e9",
   "metadata": {},
   "outputs": [
    {
     "data": {
      "text/html": [
       "<table class=\"simpletable\">\n",
       "<caption>OLS Regression Results</caption>\n",
       "<tr>\n",
       "  <th>Dep. Variable:</th>         <td>invest</td>      <th>  R-squared:         </th> <td>   0.818</td>\n",
       "</tr>\n",
       "<tr>\n",
       "  <th>Model:</th>                   <td>OLS</td>       <th>  Adj. R-squared:    </th> <td>   0.816</td>\n",
       "</tr>\n",
       "<tr>\n",
       "  <th>Method:</th>             <td>Least Squares</td>  <th>  F-statistic:       </th> <td>   487.3</td>\n",
       "</tr>\n",
       "<tr>\n",
       "  <th>Date:</th>             <td>Mon, 30 Dec 2024</td> <th>  Prob (F-statistic):</th> <td>5.58e-81</td>\n",
       "</tr>\n",
       "<tr>\n",
       "  <th>Time:</th>                 <td>15:37:24</td>     <th>  Log-Likelihood:    </th> <td> -1301.3</td>\n",
       "</tr>\n",
       "<tr>\n",
       "  <th>No. Observations:</th>      <td>   220</td>      <th>  AIC:               </th> <td>   2609.</td>\n",
       "</tr>\n",
       "<tr>\n",
       "  <th>Df Residuals:</th>          <td>   217</td>      <th>  BIC:               </th> <td>   2619.</td>\n",
       "</tr>\n",
       "<tr>\n",
       "  <th>Df Model:</th>              <td>     2</td>      <th>                     </th>     <td> </td>   \n",
       "</tr>\n",
       "<tr>\n",
       "  <th>Covariance Type:</th>      <td>nonrobust</td>    <th>                     </th>     <td> </td>   \n",
       "</tr>\n",
       "</table>\n",
       "<table class=\"simpletable\">\n",
       "<tr>\n",
       "      <td></td>         <th>coef</th>     <th>std err</th>      <th>t</th>      <th>P>|t|</th>  <th>[0.025</th>    <th>0.975]</th>  \n",
       "</tr>\n",
       "<tr>\n",
       "  <th>Intercept</th> <td>  -38.4101</td> <td>    8.413</td> <td>   -4.565</td> <td> 0.000</td> <td>  -54.992</td> <td>  -21.828</td>\n",
       "</tr>\n",
       "<tr>\n",
       "  <th>value</th>     <td>    0.1145</td> <td>    0.006</td> <td>   20.753</td> <td> 0.000</td> <td>    0.104</td> <td>    0.125</td>\n",
       "</tr>\n",
       "<tr>\n",
       "  <th>capital</th>   <td>    0.2275</td> <td>    0.024</td> <td>    9.390</td> <td> 0.000</td> <td>    0.180</td> <td>    0.275</td>\n",
       "</tr>\n",
       "</table>\n",
       "<table class=\"simpletable\">\n",
       "<tr>\n",
       "  <th>Omnibus:</th>       <td>33.923</td> <th>  Durbin-Watson:     </th> <td>   0.357</td>\n",
       "</tr>\n",
       "<tr>\n",
       "  <th>Prob(Omnibus):</th> <td> 0.000</td> <th>  Jarque-Bera (JB):  </th> <td> 139.212</td>\n",
       "</tr>\n",
       "<tr>\n",
       "  <th>Skew:</th>          <td> 0.491</td> <th>  Prob(JB):          </th> <td>5.90e-31</td>\n",
       "</tr>\n",
       "<tr>\n",
       "  <th>Kurtosis:</th>      <td> 6.771</td> <th>  Cond. No.          </th> <td>2.27e+03</td>\n",
       "</tr>\n",
       "</table><br/><br/>Notes:<br/>[1] Standard Errors assume that the covariance matrix of the errors is correctly specified.<br/>[2] The condition number is large, 2.27e+03. This might indicate that there are<br/>strong multicollinearity or other numerical problems."
      ],
      "text/latex": [
       "\\begin{center}\n",
       "\\begin{tabular}{lclc}\n",
       "\\toprule\n",
       "\\textbf{Dep. Variable:}    &      invest      & \\textbf{  R-squared:         } &     0.818   \\\\\n",
       "\\textbf{Model:}            &       OLS        & \\textbf{  Adj. R-squared:    } &     0.816   \\\\\n",
       "\\textbf{Method:}           &  Least Squares   & \\textbf{  F-statistic:       } &     487.3   \\\\\n",
       "\\textbf{Date:}             & Mon, 30 Dec 2024 & \\textbf{  Prob (F-statistic):} &  5.58e-81   \\\\\n",
       "\\textbf{Time:}             &     15:37:24     & \\textbf{  Log-Likelihood:    } &   -1301.3   \\\\\n",
       "\\textbf{No. Observations:} &         220      & \\textbf{  AIC:               } &     2609.   \\\\\n",
       "\\textbf{Df Residuals:}     &         217      & \\textbf{  BIC:               } &     2619.   \\\\\n",
       "\\textbf{Df Model:}         &           2      & \\textbf{                     } &             \\\\\n",
       "\\textbf{Covariance Type:}  &    nonrobust     & \\textbf{                     } &             \\\\\n",
       "\\bottomrule\n",
       "\\end{tabular}\n",
       "\\begin{tabular}{lcccccc}\n",
       "                   & \\textbf{coef} & \\textbf{std err} & \\textbf{t} & \\textbf{P$> |$t$|$} & \\textbf{[0.025} & \\textbf{0.975]}  \\\\\n",
       "\\midrule\n",
       "\\textbf{Intercept} &     -38.4101  &        8.413     &    -4.565  &         0.000        &      -54.992    &      -21.828     \\\\\n",
       "\\textbf{value}     &       0.1145  &        0.006     &    20.753  &         0.000        &        0.104    &        0.125     \\\\\n",
       "\\textbf{capital}   &       0.2275  &        0.024     &     9.390  &         0.000        &        0.180    &        0.275     \\\\\n",
       "\\bottomrule\n",
       "\\end{tabular}\n",
       "\\begin{tabular}{lclc}\n",
       "\\textbf{Omnibus:}       & 33.923 & \\textbf{  Durbin-Watson:     } &    0.357  \\\\\n",
       "\\textbf{Prob(Omnibus):} &  0.000 & \\textbf{  Jarque-Bera (JB):  } &  139.212  \\\\\n",
       "\\textbf{Skew:}          &  0.491 & \\textbf{  Prob(JB):          } & 5.90e-31  \\\\\n",
       "\\textbf{Kurtosis:}      &  6.771 & \\textbf{  Cond. No.          } & 2.27e+03  \\\\\n",
       "\\bottomrule\n",
       "\\end{tabular}\n",
       "%\\caption{OLS Regression Results}\n",
       "\\end{center}\n",
       "\n",
       "Notes: \\newline\n",
       " [1] Standard Errors assume that the covariance matrix of the errors is correctly specified. \\newline\n",
       " [2] The condition number is large, 2.27e+03. This might indicate that there are \\newline\n",
       " strong multicollinearity or other numerical problems."
      ],
      "text/plain": [
       "<class 'statsmodels.iolib.summary.Summary'>\n",
       "\"\"\"\n",
       "                            OLS Regression Results                            \n",
       "==============================================================================\n",
       "Dep. Variable:                 invest   R-squared:                       0.818\n",
       "Model:                            OLS   Adj. R-squared:                  0.816\n",
       "Method:                 Least Squares   F-statistic:                     487.3\n",
       "Date:                Mon, 30 Dec 2024   Prob (F-statistic):           5.58e-81\n",
       "Time:                        15:37:24   Log-Likelihood:                -1301.3\n",
       "No. Observations:                 220   AIC:                             2609.\n",
       "Df Residuals:                     217   BIC:                             2619.\n",
       "Df Model:                           2                                         \n",
       "Covariance Type:            nonrobust                                         \n",
       "==============================================================================\n",
       "                 coef    std err          t      P>|t|      [0.025      0.975]\n",
       "------------------------------------------------------------------------------\n",
       "Intercept    -38.4101      8.413     -4.565      0.000     -54.992     -21.828\n",
       "value          0.1145      0.006     20.753      0.000       0.104       0.125\n",
       "capital        0.2275      0.024      9.390      0.000       0.180       0.275\n",
       "==============================================================================\n",
       "Omnibus:                       33.923   Durbin-Watson:                   0.357\n",
       "Prob(Omnibus):                  0.000   Jarque-Bera (JB):              139.212\n",
       "Skew:                           0.491   Prob(JB):                     5.90e-31\n",
       "Kurtosis:                       6.771   Cond. No.                     2.27e+03\n",
       "==============================================================================\n",
       "\n",
       "Notes:\n",
       "[1] Standard Errors assume that the covariance matrix of the errors is correctly specified.\n",
       "[2] The condition number is large, 2.27e+03. This might indicate that there are\n",
       "strong multicollinearity or other numerical problems.\n",
       "\"\"\""
      ]
     },
     "execution_count": 22,
     "metadata": {},
     "output_type": "execute_result"
    }
   ],
   "source": [
    "from statsmodels.formula.api import ols\n",
    "mod1=ols('invest~value+capital',data).fit()\n",
    "mod1.summary()"
   ]
  },
  {
   "cell_type": "markdown",
   "id": "b372ee61-f04e-4f5d-bad2-d4f07dc2b124",
   "metadata": {},
   "source": [
    "- IDVs `Value` and `capital` are significant as p-value<0.05\n",
    "- For a unit change in it's `value` of capital stock 0.1145 increase in firm's investment.\n",
    "- For a unit change in it's `capital` of capital stock 0.2275 increase in firm's investment.\n",
    "- Amount of variation(R^2) in firm's investment is explained by the variation in `Value` and `capital`."
   ]
  },
  {
   "cell_type": "code",
   "execution_count": 23,
   "id": "370fd7e7-3998-4c53-8211-088e7112cd56",
   "metadata": {},
   "outputs": [
    {
     "data": {
      "text/html": [
       "<table class=\"simpletable\">\n",
       "<caption>OLS Regression Results</caption>\n",
       "<tr>\n",
       "  <th>Dep. Variable:</th>     <td>np.sqrt(invest)</td> <th>  R-squared:         </th> <td>   0.822</td>\n",
       "</tr>\n",
       "<tr>\n",
       "  <th>Model:</th>                   <td>OLS</td>       <th>  Adj. R-squared:    </th> <td>   0.820</td>\n",
       "</tr>\n",
       "<tr>\n",
       "  <th>Method:</th>             <td>Least Squares</td>  <th>  F-statistic:       </th> <td>   501.4</td>\n",
       "</tr>\n",
       "<tr>\n",
       "  <th>Date:</th>             <td>Mon, 30 Dec 2024</td> <th>  Prob (F-statistic):</th> <td>4.38e-82</td>\n",
       "</tr>\n",
       "<tr>\n",
       "  <th>Time:</th>                 <td>15:37:25</td>     <th>  Log-Likelihood:    </th> <td> -547.78</td>\n",
       "</tr>\n",
       "<tr>\n",
       "  <th>No. Observations:</th>      <td>   220</td>      <th>  AIC:               </th> <td>   1102.</td>\n",
       "</tr>\n",
       "<tr>\n",
       "  <th>Df Residuals:</th>          <td>   217</td>      <th>  BIC:               </th> <td>   1112.</td>\n",
       "</tr>\n",
       "<tr>\n",
       "  <th>Df Model:</th>              <td>     2</td>      <th>                     </th>     <td> </td>   \n",
       "</tr>\n",
       "<tr>\n",
       "  <th>Covariance Type:</th>      <td>nonrobust</td>    <th>                     </th>     <td> </td>   \n",
       "</tr>\n",
       "</table>\n",
       "<table class=\"simpletable\">\n",
       "<tr>\n",
       "      <td></td>         <th>coef</th>     <th>std err</th>      <th>t</th>      <th>P>|t|</th>  <th>[0.025</th>    <th>0.975]</th>  \n",
       "</tr>\n",
       "<tr>\n",
       "  <th>Intercept</th> <td>    3.7075</td> <td>    0.274</td> <td>   13.540</td> <td> 0.000</td> <td>    3.168</td> <td>    4.247</td>\n",
       "</tr>\n",
       "<tr>\n",
       "  <th>value</th>     <td>    0.0040</td> <td>    0.000</td> <td>   22.511</td> <td> 0.000</td> <td>    0.004</td> <td>    0.004</td>\n",
       "</tr>\n",
       "<tr>\n",
       "  <th>capital</th>   <td>    0.0060</td> <td>    0.001</td> <td>    7.590</td> <td> 0.000</td> <td>    0.004</td> <td>    0.008</td>\n",
       "</tr>\n",
       "</table>\n",
       "<table class=\"simpletable\">\n",
       "<tr>\n",
       "  <th>Omnibus:</th>       <td>40.707</td> <th>  Durbin-Watson:     </th> <td>   0.286</td>\n",
       "</tr>\n",
       "<tr>\n",
       "  <th>Prob(Omnibus):</th> <td> 0.000</td> <th>  Jarque-Bera (JB):  </th> <td>  75.154</td>\n",
       "</tr>\n",
       "<tr>\n",
       "  <th>Skew:</th>          <td> 0.943</td> <th>  Prob(JB):          </th> <td>4.79e-17</td>\n",
       "</tr>\n",
       "<tr>\n",
       "  <th>Kurtosis:</th>      <td> 5.154</td> <th>  Cond. No.          </th> <td>2.27e+03</td>\n",
       "</tr>\n",
       "</table><br/><br/>Notes:<br/>[1] Standard Errors assume that the covariance matrix of the errors is correctly specified.<br/>[2] The condition number is large, 2.27e+03. This might indicate that there are<br/>strong multicollinearity or other numerical problems."
      ],
      "text/latex": [
       "\\begin{center}\n",
       "\\begin{tabular}{lclc}\n",
       "\\toprule\n",
       "\\textbf{Dep. Variable:}    & np.sqrt(invest)  & \\textbf{  R-squared:         } &     0.822   \\\\\n",
       "\\textbf{Model:}            &       OLS        & \\textbf{  Adj. R-squared:    } &     0.820   \\\\\n",
       "\\textbf{Method:}           &  Least Squares   & \\textbf{  F-statistic:       } &     501.4   \\\\\n",
       "\\textbf{Date:}             & Mon, 30 Dec 2024 & \\textbf{  Prob (F-statistic):} &  4.38e-82   \\\\\n",
       "\\textbf{Time:}             &     15:37:25     & \\textbf{  Log-Likelihood:    } &   -547.78   \\\\\n",
       "\\textbf{No. Observations:} &         220      & \\textbf{  AIC:               } &     1102.   \\\\\n",
       "\\textbf{Df Residuals:}     &         217      & \\textbf{  BIC:               } &     1112.   \\\\\n",
       "\\textbf{Df Model:}         &           2      & \\textbf{                     } &             \\\\\n",
       "\\textbf{Covariance Type:}  &    nonrobust     & \\textbf{                     } &             \\\\\n",
       "\\bottomrule\n",
       "\\end{tabular}\n",
       "\\begin{tabular}{lcccccc}\n",
       "                   & \\textbf{coef} & \\textbf{std err} & \\textbf{t} & \\textbf{P$> |$t$|$} & \\textbf{[0.025} & \\textbf{0.975]}  \\\\\n",
       "\\midrule\n",
       "\\textbf{Intercept} &       3.7075  &        0.274     &    13.540  &         0.000        &        3.168    &        4.247     \\\\\n",
       "\\textbf{value}     &       0.0040  &        0.000     &    22.511  &         0.000        &        0.004    &        0.004     \\\\\n",
       "\\textbf{capital}   &       0.0060  &        0.001     &     7.590  &         0.000        &        0.004    &        0.008     \\\\\n",
       "\\bottomrule\n",
       "\\end{tabular}\n",
       "\\begin{tabular}{lclc}\n",
       "\\textbf{Omnibus:}       & 40.707 & \\textbf{  Durbin-Watson:     } &    0.286  \\\\\n",
       "\\textbf{Prob(Omnibus):} &  0.000 & \\textbf{  Jarque-Bera (JB):  } &   75.154  \\\\\n",
       "\\textbf{Skew:}          &  0.943 & \\textbf{  Prob(JB):          } & 4.79e-17  \\\\\n",
       "\\textbf{Kurtosis:}      &  5.154 & \\textbf{  Cond. No.          } & 2.27e+03  \\\\\n",
       "\\bottomrule\n",
       "\\end{tabular}\n",
       "%\\caption{OLS Regression Results}\n",
       "\\end{center}\n",
       "\n",
       "Notes: \\newline\n",
       " [1] Standard Errors assume that the covariance matrix of the errors is correctly specified. \\newline\n",
       " [2] The condition number is large, 2.27e+03. This might indicate that there are \\newline\n",
       " strong multicollinearity or other numerical problems."
      ],
      "text/plain": [
       "<class 'statsmodels.iolib.summary.Summary'>\n",
       "\"\"\"\n",
       "                            OLS Regression Results                            \n",
       "==============================================================================\n",
       "Dep. Variable:        np.sqrt(invest)   R-squared:                       0.822\n",
       "Model:                            OLS   Adj. R-squared:                  0.820\n",
       "Method:                 Least Squares   F-statistic:                     501.4\n",
       "Date:                Mon, 30 Dec 2024   Prob (F-statistic):           4.38e-82\n",
       "Time:                        15:37:25   Log-Likelihood:                -547.78\n",
       "No. Observations:                 220   AIC:                             1102.\n",
       "Df Residuals:                     217   BIC:                             1112.\n",
       "Df Model:                           2                                         \n",
       "Covariance Type:            nonrobust                                         \n",
       "==============================================================================\n",
       "                 coef    std err          t      P>|t|      [0.025      0.975]\n",
       "------------------------------------------------------------------------------\n",
       "Intercept      3.7075      0.274     13.540      0.000       3.168       4.247\n",
       "value          0.0040      0.000     22.511      0.000       0.004       0.004\n",
       "capital        0.0060      0.001      7.590      0.000       0.004       0.008\n",
       "==============================================================================\n",
       "Omnibus:                       40.707   Durbin-Watson:                   0.286\n",
       "Prob(Omnibus):                  0.000   Jarque-Bera (JB):               75.154\n",
       "Skew:                           0.943   Prob(JB):                     4.79e-17\n",
       "Kurtosis:                       5.154   Cond. No.                     2.27e+03\n",
       "==============================================================================\n",
       "\n",
       "Notes:\n",
       "[1] Standard Errors assume that the covariance matrix of the errors is correctly specified.\n",
       "[2] The condition number is large, 2.27e+03. This might indicate that there are\n",
       "strong multicollinearity or other numerical problems.\n",
       "\"\"\""
      ]
     },
     "execution_count": 23,
     "metadata": {},
     "output_type": "execute_result"
    }
   ],
   "source": [
    "from statsmodels.formula.api import ols\n",
    "mod=ols('np.sqrt(invest)~value+capital',data).fit()\n",
    "mod.summary()"
   ]
  },
  {
   "cell_type": "markdown",
   "id": "a023c9b3-48cf-4d20-bd85-4f7757f1a5d7",
   "metadata": {},
   "source": [
    "- IDVs `Value` and `capital` are significant as p-value<0.05\n",
    "- For a unit change in it's `value` of capital stock 0.004 increase in square root of firm's investment.\n",
    "- For a unit change in it's `capital` of capital stock 0.006 increase in square root of firm's investment.\n",
    "- Amount of variation(R^2) in firm's investment is explained by the variation in `Value` and `capital`."
   ]
  },
  {
   "cell_type": "code",
   "execution_count": 24,
   "id": "43ed70e5-1bb3-42cf-b240-bcfd9d80fe84",
   "metadata": {},
   "outputs": [
    {
     "data": {
      "text/plain": [
       "0      301.428127\n",
       "1      368.928557\n",
       "2      384.171254\n",
       "3      241.450499\n",
       "4      308.435182\n",
       "          ...    \n",
       "215      0.461040\n",
       "216      2.175175\n",
       "217      2.917974\n",
       "218      4.600201\n",
       "219      1.881368\n",
       "Length: 220, dtype: float64"
      ]
     },
     "execution_count": 24,
     "metadata": {},
     "output_type": "execute_result"
    }
   ],
   "source": [
    "#Residuals: Actual - predicted\n",
    "residual=data['invest'] - mod.fittedvalues\n",
    "residual"
   ]
  },
  {
   "cell_type": "code",
   "execution_count": 25,
   "id": "426f1275-905c-4d2b-b96f-d76bcb156700",
   "metadata": {},
   "outputs": [
    {
     "data": {
      "text/plain": [
       "<Axes: >"
      ]
     },
     "execution_count": 25,
     "metadata": {},
     "output_type": "execute_result"
    },
    {
     "data": {
      "image/png": "[encoded data removed]",
      "text/plain": [
       "<Figure size 640x480 with 1 Axes>"
      ]
     },
     "metadata": {},
     "output_type": "display_data"
    }
   ],
   "source": [
    "#Assumption check: Errors normally distributed? \n",
    "res=mod.resid\n",
    "res.hist()"
   ]
  },
  {
   "cell_type": "code",
   "execution_count": 26,
   "id": "13d85596-ea91-40b2-b934-1d53dba0c8d4",
   "metadata": {},
   "outputs": [
    {
     "data": {
      "image/png": "[encoded data removed]",
      "text/plain": [
       "<Figure size 640x480 with 1 Axes>"
      ]
     },
     "execution_count": 26,
     "metadata": {},
     "output_type": "execute_result"
    },
    {
     "data": {
      "image/png": "[encoded data removed]",
      "text/plain": [
       "<Figure size 640x480 with 1 Axes>"
      ]
     },
     "metadata": {},
     "output_type": "display_data"
    }
   ],
   "source": [
    "import statsmodels.api as sm\n",
    "sm.qqplot(res)"
   ]
  },
  {
   "cell_type": "code",
   "execution_count": 27,
   "id": "3544b1aa-5507-42ae-961d-5b6cef1f651e",
   "metadata": {},
   "outputs": [
    {
     "data": {
      "text/html": [
       "<div>\n",
       "<style scoped>\n",
       "    .dataframe tbody tr th:only-of-type {\n",
       "        vertical-align: middle;\n",
       "    }\n",
       "\n",
       "    .dataframe tbody tr th {\n",
       "        vertical-align: top;\n",
       "    }\n",
       "\n",
       "    .dataframe thead th {\n",
       "        text-align: right;\n",
       "    }\n",
       "</style>\n",
       "<table border=\"1\" class=\"dataframe\">\n",
       "  <thead>\n",
       "    <tr style=\"text-align: right;\">\n",
       "      <th></th>\n",
       "      <th>Features</th>\n",
       "      <th>vif</th>\n",
       "    </tr>\n",
       "  </thead>\n",
       "  <tbody>\n",
       "    <tr>\n",
       "      <th>0</th>\n",
       "      <td>Intercept</td>\n",
       "      <td>1.910617</td>\n",
       "    </tr>\n",
       "    <tr>\n",
       "      <th>1</th>\n",
       "      <td>value</td>\n",
       "      <td>1.356156</td>\n",
       "    </tr>\n",
       "    <tr>\n",
       "      <th>2</th>\n",
       "      <td>capital</td>\n",
       "      <td>1.356156</td>\n",
       "    </tr>\n",
       "  </tbody>\n",
       "</table>\n",
       "</div>"
      ],
      "text/plain": [
       "    Features       vif\n",
       "0  Intercept  1.910617\n",
       "1      value  1.356156\n",
       "2    capital  1.356156"
      ]
     },
     "execution_count": 27,
     "metadata": {},
     "output_type": "execute_result"
    }
   ],
   "source": [
    "#Multicollinearity check\n",
    "import pandas as pd\n",
    "from statsmodels.stats.outliers_influence import variance_inflation_factor\n",
    "idv = mod.model.exog #IDVs+intercep\n",
    "vif = [variance_inflation_factor(idv, i) for i in range(idv.shape[1])]\n",
    "pd.DataFrame({'Features':mod.model.exog_names,'vif':vif})"
   ]
  },
  {
   "cell_type": "code",
   "execution_count": 28,
   "id": "e7376663-6e66-467e-982b-151a6154aa6a",
   "metadata": {},
   "outputs": [
    {
     "data": {
      "text/plain": [
       "<matplotlib.collections.PathCollection at 0x186dc83d450>"
      ]
     },
     "execution_count": 28,
     "metadata": {},
     "output_type": "execute_result"
    },
    {
     "data": {
      "image/png": "[encoded data removed]",
      "text/plain": [
       "<Figure size 640x480 with 1 Axes>"
      ]
     },
     "metadata": {},
     "output_type": "display_data"
    }
   ],
   "source": [
    "#Constant variance check - Homescedasticity check\n",
    "plt.scatter(mod.fittedvalues,mod.resid)"
   ]
  },
  {
   "cell_type": "code",
   "execution_count": 29,
   "id": "f62b21cb-7347-45eb-96ba-3d6aecd43f06",
   "metadata": {},
   "outputs": [],
   "source": [
    "#Test samples\n",
    "test=pd.DataFrame({'value':[3000,650],'capital':[250,145]})"
   ]
  },
  {
   "cell_type": "code",
   "execution_count": 30,
   "id": "b6c2dd2f-347b-43f3-b6b8-74daf2e2da02",
   "metadata": {},
   "outputs": [],
   "source": [
    "test['predicted']=mod.predict(test)**2 #Square of predicted value"
   ]
  },
  {
   "cell_type": "code",
   "execution_count": 31,
   "id": "3911a43f-4dfa-44a2-b098-6f7dcc9c6733",
   "metadata": {},
   "outputs": [
    {
     "data": {
      "text/html": [
       "<div>\n",
       "<style scoped>\n",
       "    .dataframe tbody tr th:only-of-type {\n",
       "        vertical-align: middle;\n",
       "    }\n",
       "\n",
       "    .dataframe tbody tr th {\n",
       "        vertical-align: top;\n",
       "    }\n",
       "\n",
       "    .dataframe thead th {\n",
       "        text-align: right;\n",
       "    }\n",
       "</style>\n",
       "<table border=\"1\" class=\"dataframe\">\n",
       "  <thead>\n",
       "    <tr style=\"text-align: right;\">\n",
       "      <th></th>\n",
       "      <th>value</th>\n",
       "      <th>capital</th>\n",
       "      <th>predicted</th>\n",
       "    </tr>\n",
       "  </thead>\n",
       "  <tbody>\n",
       "    <tr>\n",
       "      <th>0</th>\n",
       "      <td>3000</td>\n",
       "      <td>250</td>\n",
       "      <td>300.464095</td>\n",
       "    </tr>\n",
       "    <tr>\n",
       "      <th>1</th>\n",
       "      <td>650</td>\n",
       "      <td>145</td>\n",
       "      <td>51.890151</td>\n",
       "    </tr>\n",
       "  </tbody>\n",
       "</table>\n",
       "</div>"
      ],
      "text/plain": [
       "   value  capital   predicted\n",
       "0   3000      250  300.464095\n",
       "1    650      145   51.890151"
      ]
     },
     "execution_count": 31,
     "metadata": {},
     "output_type": "execute_result"
    }
   ],
   "source": [
    "test"
   ]
  },
  {
   "cell_type": "code",
   "execution_count": 32,
   "id": "1e00411c-9b3b-494e-8285-9c405715f8fc",
   "metadata": {},
   "outputs": [],
   "source": [
    "#ML Approach"
   ]
  },
  {
   "cell_type": "code",
   "execution_count": 33,
   "id": "1fa95a20-95ae-40b4-a413-5d24fc23cb53",
   "metadata": {},
   "outputs": [],
   "source": [
    "from sklearn.linear_model import LinearRegression, Ridge\n",
    "from sklearn.tree import DecisionTreeRegressor\n",
    "from sklearn.ensemble import RandomForestRegressor\n",
    "from sklearn.preprocessing import MinMaxScaler\n",
    "from sklearn.neighbors import KNeighborsRegressor\n",
    "from sklearn.model_selection import GridSearchCV"
   ]
  },
  {
   "cell_type": "code",
   "execution_count": 34,
   "id": "d219d925-d0aa-4c6d-af5e-2bd1c9a11888",
   "metadata": {},
   "outputs": [],
   "source": [
    "X=data.drop(['invest','firm','year'],axis=1)\n",
    "Y=data['invest']"
   ]
  },
  {
   "cell_type": "code",
   "execution_count": 35,
   "id": "eb2b8eb4-a5ff-420e-9a87-79e474dea880",
   "metadata": {},
   "outputs": [],
   "source": [
    "models={'reg':LinearRegression(),'ridge':Ridge(),'dt':DecisionTreeRegressor(),'rf':RandomForestRegressor(),'knn':KNeighborsRegressor()}"
   ]
  },
  {
   "cell_type": "code",
   "execution_count": 36,
   "id": "1c1ec491-1008-436b-9ac5-6f7222c2d59b",
   "metadata": {},
   "outputs": [],
   "source": [
    "params={'reg':{'fit_intercept':[True]},'ridge':{'alpha':[0.02,0.05,0.06,0.07]},'dt':{'max_depth':[2,3,4],'criterion':[\"squared_error\",\"absolute_error\"]},\n",
    "                                               'rf':{'max_depth':[2,3,4],'n_estimators':[10,20,30]},'knn':{'n_neighbors':[2,3,5]}}"
   ]
  },
  {
   "cell_type": "code",
   "execution_count": 37,
   "id": "dbf285d8-a40d-4a95-a945-9e18d26e1091",
   "metadata": {},
   "outputs": [
    {
     "name": "stderr",
     "output_type": "stream",
     "text": [
      " 20%|████████████████▊                                                                   | 1/5 [00:05<00:20,  5.12s/it]"
     ]
    },
    {
     "name": "stdout",
     "output_type": "stream",
     "text": [
      "{'fit_intercept': True}\n"
     ]
    },
    {
     "name": "stderr",
     "output_type": "stream",
     "text": [
      " 40%|█████████████████████████████████▌                                                  | 2/5 [00:09<00:13,  4.39s/it]"
     ]
    },
    {
     "name": "stdout",
     "output_type": "stream",
     "text": [
      "{'alpha': 0.07}\n"
     ]
    },
    {
     "name": "stderr",
     "output_type": "stream",
     "text": [
      " 60%|██████████████████████████████████████████████████▍                                 | 3/5 [00:09<00:05,  2.50s/it]"
     ]
    },
    {
     "name": "stdout",
     "output_type": "stream",
     "text": [
      "{'criterion': 'absolute_error', 'max_depth': 4}\n"
     ]
    },
    {
     "name": "stderr",
     "output_type": "stream",
     "text": [
      "100%|████████████████████████████████████████████████████████████████████████████████████| 5/5 [00:10<00:00,  2.03s/it]"
     ]
    },
    {
     "name": "stdout",
     "output_type": "stream",
     "text": [
      "{'max_depth': 4, 'n_estimators': 10}\n",
      "{'n_neighbors': 5}\n"
     ]
    },
    {
     "name": "stderr",
     "output_type": "stream",
     "text": [
      "\n"
     ]
    }
   ],
   "source": [
    "result={}\n",
    "for m in tqdm(models.keys()):\n",
    "    model=models[m]\n",
    "    alg=GridSearchCV(model,param_grid=params[m],n_jobs=-1,cv=3).fit(X,Y)\n",
    "    print(alg.best_params_)\n",
    "    result[alg.best_estimator_]=[alg.score(X,Y)]"
   ]
  },
  {
   "cell_type": "code",
   "execution_count": 38,
   "id": "1475c4d5-e77c-4225-9e83-ac54e5a43adf",
   "metadata": {},
   "outputs": [],
   "source": [
    "result[str(type(mod.model))]=mod.rsquared"
   ]
  },
  {
   "cell_type": "code",
   "execution_count": 39,
   "id": "cfd2f786-9372-49b6-9b4b-17df0fca9251",
   "metadata": {},
   "outputs": [
    {
     "data": {
      "text/plain": [
       "{LinearRegression(): [0.8178870315420232],\n",
       " Ridge(alpha=0.07): [0.8178870315420232],\n",
       " DecisionTreeRegressor(criterion='absolute_error', max_depth=4): [0.8898680286636299],\n",
       " RandomForestRegressor(max_depth=4, n_estimators=10): [0.9124312134071394],\n",
       " KNeighborsRegressor(): [0.8514099753395432],\n",
       " \"<class 'statsmodels.regression.linear_model.OLS'>\": np.float64(0.8221104838952498)}"
      ]
     },
     "execution_count": 39,
     "metadata": {},
     "output_type": "execute_result"
    }
   ],
   "source": [
    "result"
   ]
  },
  {
   "cell_type": "code",
   "execution_count": 40,
   "id": "75a9de94-2ec7-40e6-bf8d-3aa310d7211c",
   "metadata": {},
   "outputs": [],
   "source": [
    "r=pd.DataFrame(result).T\n",
    "r=r.reset_index()\n",
    "r.columns=['Model','R-Squared']"
   ]
  },
  {
   "cell_type": "code",
   "execution_count": 44,
   "id": "0bba6994-00a0-47b9-9fb1-656c41edc5a0",
   "metadata": {},
   "outputs": [],
   "source": [
    "r=r.sort_values('R-Squared',ascending=False)"
   ]
  },
  {
   "cell_type": "code",
   "execution_count": 47,
   "id": "9b803fbc-010e-488c-860e-01fd4e6eef38",
   "metadata": {},
   "outputs": [
    {
     "data": {
      "text/html": [
       "<style type=\"text/css\">\n",
       "#T_3d56a_row0_col1 {\n",
       "  background-color: #fde725;\n",
       "  color: #000000;\n",
       "}\n",
       "#T_3d56a_row1_col1 {\n",
       "  background-color: #63cb5f;\n",
       "  color: #000000;\n",
       "}\n",
       "#T_3d56a_row2_col1 {\n",
       "  background-color: #2e6d8e;\n",
       "  color: #f1f1f1;\n",
       "}\n",
       "#T_3d56a_row3_col1 {\n",
       "  background-color: #471164;\n",
       "  color: #f1f1f1;\n",
       "}\n",
       "#T_3d56a_row4_col1, #T_3d56a_row5_col1 {\n",
       "  background-color: #440154;\n",
       "  color: #f1f1f1;\n",
       "}\n",
       "</style>\n",
       "<table id=\"T_3d56a\">\n",
       "  <thead>\n",
       "    <tr>\n",
       "      <th class=\"blank level0\" >&nbsp;</th>\n",
       "      <th id=\"T_3d56a_level0_col0\" class=\"col_heading level0 col0\" >Model</th>\n",
       "      <th id=\"T_3d56a_level0_col1\" class=\"col_heading level0 col1\" >R-Squared</th>\n",
       "    </tr>\n",
       "  </thead>\n",
       "  <tbody>\n",
       "    <tr>\n",
       "      <th id=\"T_3d56a_level0_row0\" class=\"row_heading level0 row0\" >3</th>\n",
       "      <td id=\"T_3d56a_row0_col0\" class=\"data row0 col0\" >RandomForestRegressor(max_depth=4, n_estimators=10)</td>\n",
       "      <td id=\"T_3d56a_row0_col1\" class=\"data row0 col1\" >0.912431</td>\n",
       "    </tr>\n",
       "    <tr>\n",
       "      <th id=\"T_3d56a_level0_row1\" class=\"row_heading level0 row1\" >2</th>\n",
       "      <td id=\"T_3d56a_row1_col0\" class=\"data row1 col0\" >DecisionTreeRegressor(criterion='absolute_error', max_depth=4)</td>\n",
       "      <td id=\"T_3d56a_row1_col1\" class=\"data row1 col1\" >0.889868</td>\n",
       "    </tr>\n",
       "    <tr>\n",
       "      <th id=\"T_3d56a_level0_row2\" class=\"row_heading level0 row2\" >4</th>\n",
       "      <td id=\"T_3d56a_row2_col0\" class=\"data row2 col0\" >KNeighborsRegressor()</td>\n",
       "      <td id=\"T_3d56a_row2_col1\" class=\"data row2 col1\" >0.851410</td>\n",
       "    </tr>\n",
       "    <tr>\n",
       "      <th id=\"T_3d56a_level0_row3\" class=\"row_heading level0 row3\" >5</th>\n",
       "      <td id=\"T_3d56a_row3_col0\" class=\"data row3 col0\" ><class 'statsmodels.regression.linear_model.OLS'></td>\n",
       "      <td id=\"T_3d56a_row3_col1\" class=\"data row3 col1\" >0.822110</td>\n",
       "    </tr>\n",
       "    <tr>\n",
       "      <th id=\"T_3d56a_level0_row4\" class=\"row_heading level0 row4\" >1</th>\n",
       "      <td id=\"T_3d56a_row4_col0\" class=\"data row4 col0\" >Ridge(alpha=0.07)</td>\n",
       "      <td id=\"T_3d56a_row4_col1\" class=\"data row4 col1\" >0.817887</td>\n",
       "    </tr>\n",
       "    <tr>\n",
       "      <th id=\"T_3d56a_level0_row5\" class=\"row_heading level0 row5\" >0</th>\n",
       "      <td id=\"T_3d56a_row5_col0\" class=\"data row5 col0\" >LinearRegression()</td>\n",
       "      <td id=\"T_3d56a_row5_col1\" class=\"data row5 col1\" >0.817887</td>\n",
       "    </tr>\n",
       "  </tbody>\n",
       "</table>\n"
      ],
      "text/plain": [
       "<pandas.io.formats.style.Styler at 0x186dcd53610>"
      ]
     },
     "execution_count": 47,
     "metadata": {},
     "output_type": "execute_result"
    }
   ],
   "source": [
    "r.style.background_gradient(cmap='viridis')"
   ]
  },
  {
   "cell_type": "code",
   "execution_count": 50,
   "id": "0431734c-7671-461c-b4ca-24e71175e361",
   "metadata": {},
   "outputs": [
    {
     "data": {
      "text/html": [
       "<style type=\"text/css\">\n",
       "#T_86c7a_row0_col1 {\n",
       "  background-color: #008000;\n",
       "  color: #f1f1f1;\n",
       "}\n",
       "#T_86c7a_row1_col1 {\n",
       "  background-color: #389b38;\n",
       "  color: #f1f1f1;\n",
       "}\n",
       "#T_86c7a_row2_col1 {\n",
       "  background-color: #98ca98;\n",
       "  color: #000000;\n",
       "}\n",
       "#T_86c7a_row3_col1 {\n",
       "  background-color: #e0eee0;\n",
       "  color: #000000;\n",
       "}\n",
       "#T_86c7a_row4_col1, #T_86c7a_row5_col1 {\n",
       "  background-color: #ebf3eb;\n",
       "  color: #000000;\n",
       "}\n",
       "</style>\n",
       "<table id=\"T_86c7a\">\n",
       "  <thead>\n",
       "    <tr>\n",
       "      <th class=\"blank level0\" >&nbsp;</th>\n",
       "      <th id=\"T_86c7a_level0_col0\" class=\"col_heading level0 col0\" >Model</th>\n",
       "      <th id=\"T_86c7a_level0_col1\" class=\"col_heading level0 col1\" >R-Squared</th>\n",
       "    </tr>\n",
       "  </thead>\n",
       "  <tbody>\n",
       "    <tr>\n",
       "      <th id=\"T_86c7a_level0_row0\" class=\"row_heading level0 row0\" >3</th>\n",
       "      <td id=\"T_86c7a_row0_col0\" class=\"data row0 col0\" >RandomForestRegressor(max_depth=4, n_estimators=10)</td>\n",
       "      <td id=\"T_86c7a_row0_col1\" class=\"data row0 col1\" >0.912431</td>\n",
       "    </tr>\n",
       "    <tr>\n",
       "      <th id=\"T_86c7a_level0_row1\" class=\"row_heading level0 row1\" >2</th>\n",
       "      <td id=\"T_86c7a_row1_col0\" class=\"data row1 col0\" >DecisionTreeRegressor(criterion='absolute_error', max_depth=4)</td>\n",
       "      <td id=\"T_86c7a_row1_col1\" class=\"data row1 col1\" >0.889868</td>\n",
       "    </tr>\n",
       "    <tr>\n",
       "      <th id=\"T_86c7a_level0_row2\" class=\"row_heading level0 row2\" >4</th>\n",
       "      <td id=\"T_86c7a_row2_col0\" class=\"data row2 col0\" >KNeighborsRegressor()</td>\n",
       "      <td id=\"T_86c7a_row2_col1\" class=\"data row2 col1\" >0.851410</td>\n",
       "    </tr>\n",
       "    <tr>\n",
       "      <th id=\"T_86c7a_level0_row3\" class=\"row_heading level0 row3\" >5</th>\n",
       "      <td id=\"T_86c7a_row3_col0\" class=\"data row3 col0\" ><class 'statsmodels.regression.linear_model.OLS'></td>\n",
       "      <td id=\"T_86c7a_row3_col1\" class=\"data row3 col1\" >0.822110</td>\n",
       "    </tr>\n",
       "    <tr>\n",
       "      <th id=\"T_86c7a_level0_row4\" class=\"row_heading level0 row4\" >1</th>\n",
       "      <td id=\"T_86c7a_row4_col0\" class=\"data row4 col0\" >Ridge(alpha=0.07)</td>\n",
       "      <td id=\"T_86c7a_row4_col1\" class=\"data row4 col1\" >0.817887</td>\n",
       "    </tr>\n",
       "    <tr>\n",
       "      <th id=\"T_86c7a_level0_row5\" class=\"row_heading level0 row5\" >0</th>\n",
       "      <td id=\"T_86c7a_row5_col0\" class=\"data row5 col0\" >LinearRegression()</td>\n",
       "      <td id=\"T_86c7a_row5_col1\" class=\"data row5 col1\" >0.817887</td>\n",
       "    </tr>\n",
       "  </tbody>\n",
       "</table>\n"
      ],
      "text/plain": [
       "<pandas.io.formats.style.Styler at 0x186dc15a710>"
      ]
     },
     "execution_count": 50,
     "metadata": {},
     "output_type": "execute_result"
    }
   ],
   "source": [
    "cm = sns.light_palette(\"green\", as_cmap=True)\n",
    "\n",
    "r.style.background_gradient(cmap=cm)"
   ]
  },
  {
   "cell_type": "code",
   "execution_count": null,
   "id": "1b3900ac-d563-4fbe-85b2-1e45e5878488",
   "metadata": {},
   "outputs": [],
   "source": []
  }
 ],
 "metadata": {
  "kernelspec": {
   "display_name": "Python 3 (ipykernel)",
   "language": "python",
   "name": "python3"
  },
  "language_info": {
   "codemirror_mode": {
    "name": "ipython",
    "version": 3
   },
   "file_extension": ".py",
   "mimetype": "text/x-python",
   "name": "python",
   "nbconvert_exporter": "python",
   "pygments_lexer": "ipython3",
   "version": "3.13.0"
  }
 },
 "nbformat": 4,
 "nbformat_minor": 5
}
