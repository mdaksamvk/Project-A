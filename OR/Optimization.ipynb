{
 "cells": [
  {
   "cell_type": "markdown",
   "metadata": {},
   "source": [
    "# Aircraft Capacity planning"
   ]
  },
  {
   "cell_type": "code",
   "execution_count": 1,
   "metadata": {},
   "outputs": [],
   "source": [
    "#!pip install pulp"
   ]
  },
  {
   "cell_type": "markdown",
   "metadata": {},
   "source": [
    "- Assumptions: Each cargo can be splitted into any proportion, between compartments such that weight capacity maintains balance of the plane. \n",
    "- Let xij>=0 be number of tones of cargo i(1:4) put into compartments j(1:3).\n",
    "- Objective is to maximize the profit by determining how much of each cargo should be distributed among compartments"
   ]
  },
  {
   "cell_type": "code",
   "execution_count": 1,
   "metadata": {},
   "outputs": [
    {
     "name": "stderr",
     "output_type": "stream",
     "text": [
      "C:\\Users\\Admin\\anaconda3\\envs\\graphs\\Lib\\site-packages\\pulp\\pulp.py:1298: UserWarning: Spaces are not permitted in the name. Converted to '_'\n",
      "  warnings.warn(\"Spaces are not permitted in the name. Converted to '_'\")\n"
     ]
    }
   ],
   "source": [
    "#Initialize the problem\n",
    "from pulp import *\n",
    "ac_max=LpProblem(\"Aircraft Capacity planning\",LpMaximize)"
   ]
  },
  {
   "cell_type": "code",
   "execution_count": 2,
   "metadata": {},
   "outputs": [],
   "source": [
    "#Decision variables\n",
    "x11=LpVariable(\"x11\",lowBound=0) #tons of cargo 1 in compartment 1\n",
    "x12=LpVariable(\"x12\",lowBound=0)\n",
    "x13=LpVariable(\"x13\",lowBound=0)\n",
    "x21=LpVariable(\"x21\",lowBound=0)\n",
    "x22=LpVariable(\"x22\",lowBound=0)\n",
    "x23=LpVariable(\"x23\",lowBound=0)\n",
    "x31=LpVariable(\"x31\",lowBound=0)\n",
    "x32=LpVariable(\"x32\",lowBound=0)\n",
    "x33=LpVariable(\"x33\",lowBound=0)\n",
    "x41=LpVariable(\"x41\",lowBound=0) #Tons of cargo 4 in compartment 1\n",
    "x42=LpVariable(\"x42\",lowBound=0)\n",
    "x43=LpVariable(\"x43\",lowBound=0)"
   ]
  },
  {
   "cell_type": "code",
   "execution_count": 3,
   "metadata": {},
   "outputs": [],
   "source": [
    "#Profit per ton * weight of cargo in all the compartment\n",
    "ac_max +=310*(x11+x12+x13)+380*(x21+x22+x23)+350*(x31+x32+x33)+285*(x41+x42+x43)"
   ]
  },
  {
   "cell_type": "code",
   "execution_count": 4,
   "metadata": {},
   "outputs": [
    {
     "data": {
      "text/plain": [
       "Aircraft_Capacity_planning:\n",
       "MAXIMIZE\n",
       "310*x11 + 310*x12 + 310*x13 + 380*x21 + 380*x22 + 380*x23 + 350*x31 + 350*x32 + 350*x33 + 285*x41 + 285*x42 + 285*x43 + 0\n",
       "VARIABLES\n",
       "x11 Continuous\n",
       "x12 Continuous\n",
       "x13 Continuous\n",
       "x21 Continuous\n",
       "x22 Continuous\n",
       "x23 Continuous\n",
       "x31 Continuous\n",
       "x32 Continuous\n",
       "x33 Continuous\n",
       "x41 Continuous\n",
       "x42 Continuous\n",
       "x43 Continuous"
      ]
     },
     "execution_count": 4,
     "metadata": {},
     "output_type": "execute_result"
    }
   ],
   "source": [
    "ac_max"
   ]
  },
  {
   "cell_type": "code",
   "execution_count": 5,
   "metadata": {},
   "outputs": [],
   "source": [
    "#Constraints on weight of each cargo in three compartments (Cargo)\n",
    "ac_max +=x11+x12+x13<=18 #Cargo 1\n",
    "ac_max +=x21+x22+x23<=16 #Cargo 2\n",
    "ac_max +=x31+x32+x33<=23 #Cargo 3\n",
    "ac_max +=x41+x42+x43<=12 #Cargo 4 weight restriction"
   ]
  },
  {
   "cell_type": "code",
   "execution_count": 6,
   "metadata": {},
   "outputs": [],
   "source": [
    "#Constraints on weight capacity of each compartments (Compartments)\n",
    "ac_max +=x11+x21+x31+x41<=10 #Weight in Front compartment \n",
    "ac_max +=x12+x22+x32+x42<=16 #Center Compartment \n",
    "ac_max +=x13+x23+x33+x43<=8  #Rear COmpartment "
   ]
  },
  {
   "cell_type": "code",
   "execution_count": 7,
   "metadata": {},
   "outputs": [],
   "source": [
    "#Constraints on Space capacity of each compartment\n",
    "ac_max +=480*x11+650*x21+580*x31+390*x41<=6800 #Front\n",
    "ac_max +=480*x12+650*x22+580*x32+390*x42<=8700 #Center\n",
    "ac_max +=480*x13+650*x23+580*x33+390*x43<=5300 #Rear"
   ]
  },
  {
   "cell_type": "code",
   "execution_count": 8,
   "metadata": {},
   "outputs": [
    {
     "data": {
      "text/plain": [
       "Aircraft_Capacity_planning:\n",
       "MAXIMIZE\n",
       "310*x11 + 310*x12 + 310*x13 + 380*x21 + 380*x22 + 380*x23 + 350*x31 + 350*x32 + 350*x33 + 285*x41 + 285*x42 + 285*x43 + 0\n",
       "SUBJECT TO\n",
       "_C1: x11 + x12 + x13 <= 18\n",
       "\n",
       "_C2: x21 + x22 + x23 <= 16\n",
       "\n",
       "_C3: x31 + x32 + x33 <= 23\n",
       "\n",
       "_C4: x41 + x42 + x43 <= 12\n",
       "\n",
       "_C5: x11 + x21 + x31 + x41 <= 10\n",
       "\n",
       "_C6: x12 + x22 + x32 + x42 <= 16\n",
       "\n",
       "_C7: x13 + x23 + x33 + x43 <= 8\n",
       "\n",
       "_C8: 480 x11 + 650 x21 + 580 x31 + 390 x41 <= 6800\n",
       "\n",
       "_C9: 480 x12 + 650 x22 + 580 x32 + 390 x42 <= 8700\n",
       "\n",
       "_C10: 480 x13 + 650 x23 + 580 x33 + 390 x43 <= 5300\n",
       "\n",
       "_C11: 0.0294117647059 x11 + 0.0294117647059 x12 + 0.0294117647059 x13\n",
       " + 0.0294117647059 x21 + 0.0294117647059 x22 + 0.0294117647059 x23\n",
       " + 0.0294117647059 x31 + 0.0294117647059 x32 + 0.0294117647059 x33\n",
       " + 0.0294117647059 x41 + 0.0294117647059 x42 + 0.0294117647059 x43 >= 0\n",
       "\n",
       "VARIABLES\n",
       "x11 Continuous\n",
       "x12 Continuous\n",
       "x13 Continuous\n",
       "x21 Continuous\n",
       "x22 Continuous\n",
       "x23 Continuous\n",
       "x31 Continuous\n",
       "x32 Continuous\n",
       "x33 Continuous\n",
       "x41 Continuous\n",
       "x42 Continuous\n",
       "x43 Continuous"
      ]
     },
     "execution_count": 8,
     "metadata": {},
     "output_type": "execute_result"
    }
   ],
   "source": [
    "#Maintain the balance of the plane by keeping same weight\n",
    "c1=(x11+x21+x31+x41)/10\n",
    "c2=(x12+x22+x32+x42)/16\n",
    "c3=(x13+x23+x33+x43)/8\n",
    "ac_max +=((x11+x21+x31+x41+x12+x22+x32+x42+x13+x23+x33+x43)/(10+16+8))>=0\n",
    "ac_max"
   ]
  },
  {
   "cell_type": "code",
   "execution_count": 9,
   "metadata": {},
   "outputs": [
    {
     "data": {
      "text/plain": [
       "1"
      ]
     },
     "execution_count": 9,
     "metadata": {},
     "output_type": "execute_result"
    }
   ],
   "source": [
    "#Solving LPP\n",
    "result=ac_max.solve()\n",
    "result"
   ]
  },
  {
   "cell_type": "code",
   "execution_count": 10,
   "metadata": {},
   "outputs": [
    {
     "data": {
      "text/plain": [
       "'Optimal'"
      ]
     },
     "execution_count": 10,
     "metadata": {},
     "output_type": "execute_result"
    }
   ],
   "source": [
    "LpStatus[result]"
   ]
  },
  {
   "cell_type": "code",
   "execution_count": 11,
   "metadata": {},
   "outputs": [
    {
     "data": {
      "text/plain": [
       "[x11, x12, x13, x21, x22, x23, x31, x32, x33, x41, x42, x43]"
      ]
     },
     "execution_count": 11,
     "metadata": {},
     "output_type": "execute_result"
    }
   ],
   "source": [
    "ac_max.variables()"
   ]
  },
  {
   "cell_type": "code",
   "execution_count": 12,
   "metadata": {},
   "outputs": [
    {
     "name": "stdout",
     "output_type": "stream",
     "text": [
      "Objective Function Max Z = 12181.578806\n",
      "Optimality Status: Optimal\n",
      "Decision Variables\n",
      "x11=0.0\n",
      "x12=0.0\n",
      "x13=0.0\n",
      "x21=10.0\n",
      "x22=0.0\n",
      "x23=6.0\n",
      "x31=0.0\n",
      "x32=12.947368\n",
      "x33=2.0\n",
      "x41=0.0\n",
      "x42=3.0526316\n",
      "x43=0.0\n"
     ]
    }
   ],
   "source": [
    "#Optimal profit and decision variable values\n",
    "print(\"Objective Function Max Z =\",value(ac_max.objective)) \n",
    "print(\"Optimality Status:\",LpStatus[result])\n",
    "print(\"Decision Variables\")\n",
    "for v in ac_max.variables():\n",
    "    print(\"{}={}\".format(v.name,v.varValue))\n"
   ]
  },
  {
   "cell_type": "code",
   "execution_count": 13,
   "metadata": {},
   "outputs": [
    {
     "data": {
      "text/plain": [
       "odict_items([('_C1', 1*x11 + 1*x12 + 1*x13 + -18 <= 0), ('_C2', 1*x21 + 1*x22 + 1*x23 + -16 <= 0), ('_C3', 1*x31 + 1*x32 + 1*x33 + -23 <= 0), ('_C4', 1*x41 + 1*x42 + 1*x43 + -12 <= 0), ('_C5', 1*x11 + 1*x21 + 1*x31 + 1*x41 + -10 <= 0), ('_C6', 1*x12 + 1*x22 + 1*x32 + 1*x42 + -16 <= 0), ('_C7', 1*x13 + 1*x23 + 1*x33 + 1*x43 + -8 <= 0), ('_C8', 480*x11 + 650*x21 + 580*x31 + 390*x41 + -6800 <= 0), ('_C9', 480*x12 + 650*x22 + 580*x32 + 390*x42 + -8700 <= 0), ('_C10', 480*x13 + 650*x23 + 580*x33 + 390*x43 + -5300 <= 0), ('_C11', 0.029411764705882353*x11 + 0.029411764705882353*x12 + 0.029411764705882353*x13 + 0.029411764705882353*x21 + 0.029411764705882353*x22 + 0.029411764705882353*x23 + 0.029411764705882353*x31 + 0.029411764705882353*x32 + 0.029411764705882353*x33 + 0.029411764705882353*x41 + 0.029411764705882353*x42 + 0.029411764705882353*x43 + 0.0 >= 0)])"
      ]
     },
     "execution_count": 13,
     "metadata": {},
     "output_type": "execute_result"
    }
   ],
   "source": [
    "ac_max.constraints.items()"
   ]
  },
  {
   "cell_type": "code",
   "execution_count": 14,
   "metadata": {},
   "outputs": [
    {
     "data": {
      "text/html": [
       "<style type=\"text/css\">\n",
       "#T_d352a_row0_col1, #T_d352a_row1_col2, #T_d352a_row2_col1, #T_d352a_row3_col1, #T_d352a_row4_col2, #T_d352a_row5_col2, #T_d352a_row6_col2, #T_d352a_row7_col1, #T_d352a_row8_col1, #T_d352a_row8_col2, #T_d352a_row9_col1, #T_d352a_row10_col1, #T_d352a_row10_col2 {\n",
       "  background-color: #ffffd9;\n",
       "  color: #000000;\n",
       "}\n",
       "#T_d352a_row0_col2 {\n",
       "  background-color: #f6fbc5;\n",
       "  color: #000000;\n",
       "}\n",
       "#T_d352a_row1_col1 {\n",
       "  background-color: #f3fabf;\n",
       "  color: #000000;\n",
       "}\n",
       "#T_d352a_row2_col2 {\n",
       "  background-color: #fbfdd0;\n",
       "  color: #000000;\n",
       "}\n",
       "#T_d352a_row3_col2 {\n",
       "  background-color: #fafdcf;\n",
       "  color: #000000;\n",
       "}\n",
       "#T_d352a_row4_col1, #T_d352a_row6_col1, #T_d352a_row7_col2 {\n",
       "  background-color: #081d58;\n",
       "  color: #f1f1f1;\n",
       "}\n",
       "#T_d352a_row5_col1 {\n",
       "  background-color: #63c3bf;\n",
       "  color: #000000;\n",
       "}\n",
       "#T_d352a_row9_col2 {\n",
       "  background-color: #234da0;\n",
       "  color: #f1f1f1;\n",
       "}\n",
       "</style>\n",
       "<table id=\"T_d352a\">\n",
       "  <thead>\n",
       "    <tr>\n",
       "      <th class=\"blank level0\" >&nbsp;</th>\n",
       "      <th id=\"T_d352a_level0_col0\" class=\"col_heading level0 col0\" >name</th>\n",
       "      <th id=\"T_d352a_level0_col1\" class=\"col_heading level0 col1\" >shadow price</th>\n",
       "      <th id=\"T_d352a_level0_col2\" class=\"col_heading level0 col2\" >slack</th>\n",
       "    </tr>\n",
       "  </thead>\n",
       "  <tbody>\n",
       "    <tr>\n",
       "      <th id=\"T_d352a_level0_row0\" class=\"row_heading level0 row0\" >0</th>\n",
       "      <td id=\"T_d352a_row0_col0\" class=\"data row0 col0\" >_C1</td>\n",
       "      <td id=\"T_d352a_row0_col1\" class=\"data row0 col1\" >-0.000000</td>\n",
       "      <td id=\"T_d352a_row0_col2\" class=\"data row0 col2\" >18.000000</td>\n",
       "    </tr>\n",
       "    <tr>\n",
       "      <th id=\"T_d352a_level0_row1\" class=\"row_heading level0 row1\" >1</th>\n",
       "      <td id=\"T_d352a_row1_col0\" class=\"data row1 col0\" >_C2</td>\n",
       "      <td id=\"T_d352a_row1_col1\" class=\"data row1 col1\" >30.000000</td>\n",
       "      <td id=\"T_d352a_row1_col2\" class=\"data row1 col2\" >-0.000000</td>\n",
       "    </tr>\n",
       "    <tr>\n",
       "      <th id=\"T_d352a_level0_row2\" class=\"row_heading level0 row2\" >2</th>\n",
       "      <td id=\"T_d352a_row2_col0\" class=\"data row2 col0\" >_C3</td>\n",
       "      <td id=\"T_d352a_row2_col1\" class=\"data row2 col1\" >-0.000000</td>\n",
       "      <td id=\"T_d352a_row2_col2\" class=\"data row2 col2\" >8.052632</td>\n",
       "    </tr>\n",
       "    <tr>\n",
       "      <th id=\"T_d352a_level0_row3\" class=\"row_heading level0 row3\" >3</th>\n",
       "      <td id=\"T_d352a_row3_col0\" class=\"data row3 col0\" >_C4</td>\n",
       "      <td id=\"T_d352a_row3_col1\" class=\"data row3 col1\" >-0.000000</td>\n",
       "      <td id=\"T_d352a_row3_col2\" class=\"data row3 col2\" >8.947368</td>\n",
       "    </tr>\n",
       "    <tr>\n",
       "      <th id=\"T_d352a_level0_row4\" class=\"row_heading level0 row4\" >4</th>\n",
       "      <td id=\"T_d352a_row4_col0\" class=\"data row4 col0\" >_C5</td>\n",
       "      <td id=\"T_d352a_row4_col1\" class=\"data row4 col1\" >350.000000</td>\n",
       "      <td id=\"T_d352a_row4_col2\" class=\"data row4 col2\" >-0.000000</td>\n",
       "    </tr>\n",
       "    <tr>\n",
       "      <th id=\"T_d352a_level0_row5\" class=\"row_heading level0 row5\" >5</th>\n",
       "      <td id=\"T_d352a_row5_col0\" class=\"data row5 col0\" >_C6</td>\n",
       "      <td id=\"T_d352a_row5_col1\" class=\"data row5 col1\" >151.578950</td>\n",
       "      <td id=\"T_d352a_row5_col2\" class=\"data row5 col2\" >-0.000000</td>\n",
       "    </tr>\n",
       "    <tr>\n",
       "      <th id=\"T_d352a_level0_row6\" class=\"row_heading level0 row6\" >6</th>\n",
       "      <td id=\"T_d352a_row6_col0\" class=\"data row6 col0\" >_C7</td>\n",
       "      <td id=\"T_d352a_row6_col1\" class=\"data row6 col1\" >350.000000</td>\n",
       "      <td id=\"T_d352a_row6_col2\" class=\"data row6 col2\" >-0.000000</td>\n",
       "    </tr>\n",
       "    <tr>\n",
       "      <th id=\"T_d352a_level0_row7\" class=\"row_heading level0 row7\" >7</th>\n",
       "      <td id=\"T_d352a_row7_col0\" class=\"data row7 col0\" >_C8</td>\n",
       "      <td id=\"T_d352a_row7_col1\" class=\"data row7 col1\" >-0.000000</td>\n",
       "      <td id=\"T_d352a_row7_col2\" class=\"data row7 col2\" >300.000000</td>\n",
       "    </tr>\n",
       "    <tr>\n",
       "      <th id=\"T_d352a_level0_row8\" class=\"row_heading level0 row8\" >8</th>\n",
       "      <td id=\"T_d352a_row8_col0\" class=\"data row8 col0\" >_C9</td>\n",
       "      <td id=\"T_d352a_row8_col1\" class=\"data row8 col1\" >0.342105</td>\n",
       "      <td id=\"T_d352a_row8_col2\" class=\"data row8 col2\" >-0.000000</td>\n",
       "    </tr>\n",
       "    <tr>\n",
       "      <th id=\"T_d352a_level0_row9\" class=\"row_heading level0 row9\" >9</th>\n",
       "      <td id=\"T_d352a_row9_col0\" class=\"data row9 col0\" >_C10</td>\n",
       "      <td id=\"T_d352a_row9_col1\" class=\"data row9 col1\" >-0.000000</td>\n",
       "      <td id=\"T_d352a_row9_col2\" class=\"data row9 col2\" >240.000000</td>\n",
       "    </tr>\n",
       "    <tr>\n",
       "      <th id=\"T_d352a_level0_row10\" class=\"row_heading level0 row10\" >10</th>\n",
       "      <td id=\"T_d352a_row10_col0\" class=\"data row10 col0\" >_C11</td>\n",
       "      <td id=\"T_d352a_row10_col1\" class=\"data row10 col1\" >-0.000000</td>\n",
       "      <td id=\"T_d352a_row10_col2\" class=\"data row10 col2\" >-1.000000</td>\n",
       "    </tr>\n",
       "  </tbody>\n",
       "</table>\n"
      ],
      "text/plain": [
       "<pandas.io.formats.style.Styler at 0x2202584da90>"
      ]
     },
     "execution_count": 14,
     "metadata": {},
     "output_type": "execute_result"
    }
   ],
   "source": [
    "#Sensitivity Analysis\n",
    "#Shadow price and slack\n",
    "import pandas as pd\n",
    "shadow = [{'name':name, 'shadow price':c.pi,'slack': c.slack} for name, c in ac_max.constraints.items()]\n",
    "pd.DataFrame(shadow).style.background_gradient(cmap='YlGnBu')"
   ]
  },
  {
   "cell_type": "markdown",
   "metadata": {},
   "source": [
    "### Shadow Price - How much the objective function will improve if we increase the right-hand side (RHS) of a constraint by one unit.\n",
    "- With ac_max +=x21+x22+x23<=16 #Cargo 2. Optimal Value is 12181.58\n",
    "- For a unit increase in #Cargo 2- ac_max +=x21+x22+x23<=17. Optimal Value is 12211.58."
   ]
  },
  {
   "cell_type": "markdown",
   "metadata": {},
   "source": [
    "### Slack - Unused RHS.\n",
    "- Unused Space capacity in compartments cubic meters\n",
    "    - Front - 300 -C8\n",
    "    - Rear  - 170 -C10"
   ]
  },
  {
   "cell_type": "code",
   "execution_count": null,
   "metadata": {},
   "outputs": [],
   "source": []
  }
 ],
 "metadata": {
  "kernelspec": {
   "display_name": "Python 3 (ipykernel)",
   "language": "python",
   "name": "python3"
  },
  "language_info": {
   "codemirror_mode": {
    "name": "ipython",
    "version": 3
   },
   "file_extension": ".py",
   "mimetype": "text/x-python",
   "name": "python",
   "nbconvert_exporter": "python",
   "pygments_lexer": "ipython3",
   "version": "3.13.0"
  }
 },
 "nbformat": 4,
 "nbformat_minor": 4
}
