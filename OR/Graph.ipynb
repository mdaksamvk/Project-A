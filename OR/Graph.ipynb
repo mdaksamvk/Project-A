{
 "cells": [
  {
   "cell_type": "markdown",
   "id": "1408fc71-1a4c-474e-a649-a48ee7a85446",
   "metadata": {
    "id": "1408fc71-1a4c-474e-a649-a48ee7a85446"
   },
   "source": [
    "### Objective\n",
    "Data - Tourism data with tourist spot name, category, latitude and longitude\n",
    "- Get distance between each pair of tourist spot using coordinates in KM.\n",
    "- Plot a directed graph to represent/visualize the distance from a tourist spot/point to all other spots.\n",
    "- Assume we have tourist spots coordinates within a city, How can we cover all the spots by travelling minimal distance possible.\n",
    "    - Use Travelling Sales Man Problem approach.\n",
    "    - Visualize the shortest path and calculate the shortest distance in KM."
   ]
  },
  {
   "cell_type": "code",
   "execution_count": 1,
   "id": "5d17e960-27d0-450f-a853-d0675f2cfbcf",
   "metadata": {
    "colab": {
     "base_uri": "https://localhost:8080/"
    },
    "id": "5d17e960-27d0-450f-a853-d0675f2cfbcf",
    "outputId": "a1f6a385-371a-40b0-81f7-5c6948434a0f"
   },
   "outputs": [
    {
     "name": "stdout",
     "output_type": "stream",
     "text": [
      "Wed Jan 29 16:28:00 2025       \n",
      "+---------------------------------------------------------------------------------------+\n",
      "| NVIDIA-SMI 535.104.05             Driver Version: 535.104.05   CUDA Version: 12.2     |\n",
      "|-----------------------------------------+----------------------+----------------------+\n",
      "| GPU  Name                 Persistence-M | Bus-Id        Disp.A | Volatile Uncorr. ECC |\n",
      "| Fan  Temp   Perf          Pwr:Usage/Cap |         Memory-Usage | GPU-Util  Compute M. |\n",
      "|                                         |                      |               MIG M. |\n",
      "|=========================================+======================+======================|\n",
      "|   0  Tesla T4                       Off | 00000000:00:04.0 Off |                    0 |\n",
      "| N/A   56C    P8              13W /  70W |      0MiB / 15360MiB |      0%      Default |\n",
      "|                                         |                      |                  N/A |\n",
      "+-----------------------------------------+----------------------+----------------------+\n",
      "                                                                                         \n",
      "+---------------------------------------------------------------------------------------+\n",
      "| Processes:                                                                            |\n",
      "|  GPU   GI   CI        PID   Type   Process name                            GPU Memory |\n",
      "|        ID   ID                                                             Usage      |\n",
      "|=======================================================================================|\n",
      "|  No running processes found                                                           |\n",
      "+---------------------------------------------------------------------------------------+\n"
     ]
    }
   ],
   "source": [
    "!nvidia-smi"
   ]
  },
  {
   "cell_type": "code",
   "execution_count": 2,
   "id": "F7lw_SXP4J9_",
   "metadata": {
    "colab": {
     "base_uri": "https://localhost:8080/"
    },
    "id": "F7lw_SXP4J9_",
    "outputId": "889e4041-9317-4a19-89f3-c7a275c25435"
   },
   "outputs": [
    {
     "name": "stdout",
     "output_type": "stream",
     "text": [
      "Cloning into 'rapidsai-csp-utils'...\n",
      "remote: Enumerating objects: 567, done.\u001b[K\n",
      "remote: Counting objects: 100% (298/298), done.\u001b[K\n",
      "remote: Compressing objects: 100% (196/196), done.\u001b[K\n",
      "remote: Total 567 (delta 188), reused 144 (delta 100), pack-reused 269 (from 1)\u001b[K\n",
      "Receiving objects: 100% (567/567), 183.25 KiB | 13.09 MiB/s, done.\n",
      "Resolving deltas: 100% (290/290), done.\n",
      "Using Python 3.11.11 environment at /usr\n",
      "Resolved 2 packages in 65ms\n",
      "Prepared 2 packages in 7ms\n",
      "Installed 2 packages in 1ms\n",
      " + nvidia-ml-py==12.570.86\n",
      " + pynvml==12.0.0\n",
      "Installing RAPIDS remaining 24.10.* libraries\n",
      "Using Python 3.11.11 environment at /usr\n",
      "Resolved 152 packages in 10.42s\n",
      "Prepared 30 packages in 55.88s\n",
      "Uninstalled 3 packages in 42ms\n",
      "Installed 30 packages in 98ms\n",
      " + cucim-cu12==24.10.0\n",
      " + cugraph-cu12==24.10.0\n",
      " + cuml-cu12==24.10.0\n",
      " + cuproj-cu12==24.10.0\n",
      " + cuspatial-cu12==24.10.0\n",
      " + cuvs-cu12==24.10.0\n",
      " + cuxfilter-cu12==24.10.0\n",
      " - dask==2024.10.0\n",
      " + dask==2024.9.0\n",
      " + dask-cuda==24.10.0\n",
      " + dask-cudf-cu12==24.10.1\n",
      " + dask-expr==1.1.14\n",
      " + datashader==0.16.3\n",
      " + distributed==2024.9.0\n",
      " + distributed-ucxx-cu12==0.40.0\n",
      " + jupyter-server-proxy==4.4.0\n",
      " + libcuspatial-cu12==24.10.0\n",
      " + libucx-cu12==1.17.0.post1\n",
      " + libucxx-cu12==0.40.0\n",
      " + pyct==0.5.0\n",
      " - pynvml==12.0.0\n",
      " + pynvml==11.4.1\n",
      " + raft-dask-cu12==24.10.0\n",
      " + rapids-dask-dependency==24.10.0\n",
      " - scikit-image==0.25.0\n",
      " + scikit-image==0.24.0\n",
      " + simpervisor==1.0.0\n",
      " + sortedcontainers==2.4.0\n",
      " + tblib==3.0.0\n",
      " + treelite==4.3.0\n",
      " + ucx-py-cu12==0.40.0\n",
      " + ucxx-cu12==0.40.0\n",
      " + zict==3.0.0\n",
      "\n",
      "        ***********************************************************************\n",
      "        The pip install of RAPIDS is complete.\n",
      "\n",
      "        Please do not run any further installation from the conda based installation methods, as they may cause issues!\n",
      "\n",
      "        Please ensure that you're pulling from the git repo to remain updated with the latest working install scripts.\n",
      "\n",
      "        Troubleshooting:\n",
      "            - If there is an installation failure, please check back on RAPIDSAI owned templates/notebooks to see how to update your personal files.\n",
      "            - If an installation failure persists when using the latest script, please make an issue on https://github.com/rapidsai-community/rapidsai-csp-utils\n",
      "        ***********************************************************************\n",
      "        \n"
     ]
    }
   ],
   "source": [
    "!git clone https://github.com/rapidsai/rapidsai-csp-utils.git\n",
    "!python rapidsai-csp-utils/colab/pip-install.py"
   ]
  },
  {
   "cell_type": "code",
   "execution_count": 3,
   "id": "AaNM3oGD4QOi",
   "metadata": {
    "colab": {
     "base_uri": "https://localhost:8080/",
     "height": 36
    },
    "id": "AaNM3oGD4QOi",
    "outputId": "60540d4c-6a0d-4abf-ff90-5a15e1fd928c"
   },
   "outputs": [
    {
     "data": {
      "application/vnd.google.colaboratory.intrinsic+json": {
       "type": "string"
      },
      "text/plain": [
       "'24.10.00'"
      ]
     },
     "execution_count": 3,
     "metadata": {},
     "output_type": "execute_result"
    }
   ],
   "source": [
    "import cugraph\n",
    "cugraph.__version__"
   ]
  },
  {
   "cell_type": "code",
   "execution_count": 4,
   "id": "w_e3ogK95PPV",
   "metadata": {
    "id": "w_e3ogK95PPV"
   },
   "outputs": [],
   "source": [
    "NX_CUGRAPH_AUTOCONFIG=True #enable nx-cugraph"
   ]
  },
  {
   "cell_type": "code",
   "execution_count": 6,
   "id": "94e410e9-c108-46f0-a351-1019f7bf74af",
   "metadata": {
    "colab": {
     "base_uri": "https://localhost:8080/",
     "height": 206
    },
    "id": "94e410e9-c108-46f0-a351-1019f7bf74af",
    "outputId": "91c8edb8-06b7-48ba-c185-8fc87ba8b7e2"
   },
   "outputs": [
    {
     "data": {
      "application/vnd.google.colaboratory.intrinsic+json": {
       "summary": "{\n  \"name\": \"df\",\n  \"rows\": 5,\n  \"fields\": [\n    {\n      \"column\": \"Name\",\n      \"properties\": {\n        \"dtype\": \"string\",\n        \"num_unique_values\": 5,\n        \"samples\": [\n          \"Statue of Liberty\",\n          \"Brooklyn Bridge\",\n          \"Central Park\"\n        ],\n        \"semantic_type\": \"\",\n        \"description\": \"\"\n      }\n    },\n    {\n      \"column\": \"Category\",\n      \"properties\": {\n        \"dtype\": \"category\",\n        \"num_unique_values\": 2,\n        \"samples\": [\n          \"Park\",\n          \"Landmark\"\n        ],\n        \"semantic_type\": \"\",\n        \"description\": \"\"\n      }\n    },\n    {\n      \"column\": \"Latitude\",\n      \"properties\": {\n        \"dtype\": \"number\",\n        \"std\": 0.03913926345116937,\n        \"min\": 40.689247,\n        \"max\": 40.785091,\n        \"num_unique_values\": 5,\n        \"samples\": [\n          40.689247,\n          40.7061\n        ],\n        \"semantic_type\": \"\",\n        \"description\": \"\"\n      }\n    },\n    {\n      \"column\": \"Longitude\",\n      \"properties\": {\n        \"dtype\": \"number\",\n        \"std\": 0.02891071067960684,\n        \"min\": -74.044502,\n        \"max\": -73.968285,\n        \"num_unique_values\": 5,\n        \"samples\": [\n          -74.044502,\n          -73.9969\n        ],\n        \"semantic_type\": \"\",\n        \"description\": \"\"\n      }\n    }\n  ]\n}",
       "type": "dataframe",
       "variable_name": "df"
      },
      "text/html": [
       "\n",
       "  <div id=\"df-9a82cb44-d6c2-459d-87be-44a8abfdff11\" class=\"colab-df-container\">\n",
       "    <div>\n",
       "<style scoped>\n",
       "    .dataframe tbody tr th:only-of-type {\n",
       "        vertical-align: middle;\n",
       "    }\n",
       "\n",
       "    .dataframe tbody tr th {\n",
       "        vertical-align: top;\n",
       "    }\n",
       "\n",
       "    .dataframe thead th {\n",
       "        text-align: right;\n",
       "    }\n",
       "</style>\n",
       "<table border=\"1\" class=\"dataframe\">\n",
       "  <thead>\n",
       "    <tr style=\"text-align: right;\">\n",
       "      <th></th>\n",
       "      <th>Name</th>\n",
       "      <th>Category</th>\n",
       "      <th>Latitude</th>\n",
       "      <th>Longitude</th>\n",
       "    </tr>\n",
       "  </thead>\n",
       "  <tbody>\n",
       "    <tr>\n",
       "      <th>0</th>\n",
       "      <td>Empire State Building</td>\n",
       "      <td>Landmark</td>\n",
       "      <td>40.748817</td>\n",
       "      <td>-73.985428</td>\n",
       "    </tr>\n",
       "    <tr>\n",
       "      <th>1</th>\n",
       "      <td>Statue of Liberty</td>\n",
       "      <td>Landmark</td>\n",
       "      <td>40.689247</td>\n",
       "      <td>-74.044502</td>\n",
       "    </tr>\n",
       "    <tr>\n",
       "      <th>2</th>\n",
       "      <td>Central Park</td>\n",
       "      <td>Park</td>\n",
       "      <td>40.785091</td>\n",
       "      <td>-73.968285</td>\n",
       "    </tr>\n",
       "    <tr>\n",
       "      <th>3</th>\n",
       "      <td>Times Square</td>\n",
       "      <td>Landmark</td>\n",
       "      <td>40.758000</td>\n",
       "      <td>-73.985500</td>\n",
       "    </tr>\n",
       "    <tr>\n",
       "      <th>4</th>\n",
       "      <td>Brooklyn Bridge</td>\n",
       "      <td>Landmark</td>\n",
       "      <td>40.706100</td>\n",
       "      <td>-73.996900</td>\n",
       "    </tr>\n",
       "  </tbody>\n",
       "</table>\n",
       "</div>\n",
       "    <div class=\"colab-df-buttons\">\n",
       "\n",
       "  <div class=\"colab-df-container\">\n",
       "    <button class=\"colab-df-convert\" onclick=\"convertToInteractive('df-9a82cb44-d6c2-459d-87be-44a8abfdff11')\"\n",
       "            title=\"Convert this dataframe to an interactive table.\"\n",
       "            style=\"display:none;\">\n",
       "\n",
       "  <svg xmlns=\"http://www.w3.org/2000/svg\" height=\"24px\" viewBox=\"0 -960 960 960\">\n",
       "    <path d=\"M120-120v-720h720v720H120Zm60-500h600v-160H180v160Zm220 220h160v-160H400v160Zm0 220h160v-160H400v160ZM180-400h160v-160H180v160Zm440 0h160v-160H620v160ZM180-180h160v-160H180v160Zm440 0h160v-160H620v160Z\"/>\n",
       "  </svg>\n",
       "    </button>\n",
       "\n",
       "  <style>\n",
       "    .colab-df-container {\n",
       "      display:flex;\n",
       "      gap: 12px;\n",
       "    }\n",
       "\n",
       "    .colab-df-convert {\n",
       "      background-color: #E8F0FE;\n",
       "      border: none;\n",
       "      border-radius: 50%;\n",
       "      cursor: pointer;\n",
       "      display: none;\n",
       "      fill: #1967D2;\n",
       "      height: 32px;\n",
       "      padding: 0 0 0 0;\n",
       "      width: 32px;\n",
       "    }\n",
       "\n",
       "    .colab-df-convert:hover {\n",
       "      background-color: #E2EBFA;\n",
       "      box-shadow: 0px 1px 2px rgba(60, 64, 67, 0.3), 0px 1px 3px 1px rgba(60, 64, 67, 0.15);\n",
       "      fill: #174EA6;\n",
       "    }\n",
       "\n",
       "    .colab-df-buttons div {\n",
       "      margin-bottom: 4px;\n",
       "    }\n",
       "\n",
       "    [theme=dark] .colab-df-convert {\n",
       "      background-color: #3B4455;\n",
       "      fill: #D2E3FC;\n",
       "    }\n",
       "\n",
       "    [theme=dark] .colab-df-convert:hover {\n",
       "      background-color: #434B5C;\n",
       "      box-shadow: 0px 1px 3px 1px rgba(0, 0, 0, 0.15);\n",
       "      filter: drop-shadow(0px 1px 2px rgba(0, 0, 0, 0.3));\n",
       "      fill: #FFFFFF;\n",
       "    }\n",
       "  </style>\n",
       "\n",
       "    <script>\n",
       "      const buttonEl =\n",
       "        document.querySelector('#df-9a82cb44-d6c2-459d-87be-44a8abfdff11 button.colab-df-convert');\n",
       "      buttonEl.style.display =\n",
       "        google.colab.kernel.accessAllowed ? 'block' : 'none';\n",
       "\n",
       "      async function convertToInteractive(key) {\n",
       "        const element = document.querySelector('#df-9a82cb44-d6c2-459d-87be-44a8abfdff11');\n",
       "        const dataTable =\n",
       "          await google.colab.kernel.invokeFunction('convertToInteractive',\n",
       "                                                    [key], {});\n",
       "        if (!dataTable) return;\n",
       "\n",
       "        const docLinkHtml = 'Like what you see? Visit the ' +\n",
       "          '<a target=\"_blank\" href=https://colab.research.google.com/notebooks/data_table.ipynb>data table notebook</a>'\n",
       "          + ' to learn more about interactive tables.';\n",
       "        element.innerHTML = '';\n",
       "        dataTable['output_type'] = 'display_data';\n",
       "        await google.colab.output.renderOutput(dataTable, element);\n",
       "        const docLink = document.createElement('div');\n",
       "        docLink.innerHTML = docLinkHtml;\n",
       "        element.appendChild(docLink);\n",
       "      }\n",
       "    </script>\n",
       "  </div>\n",
       "\n",
       "\n",
       "<div id=\"df-e1c08ba1-358b-4489-9609-32b693cf6eb8\">\n",
       "  <button class=\"colab-df-quickchart\" onclick=\"quickchart('df-e1c08ba1-358b-4489-9609-32b693cf6eb8')\"\n",
       "            title=\"Suggest charts\"\n",
       "            style=\"display:none;\">\n",
       "\n",
       "<svg xmlns=\"http://www.w3.org/2000/svg\" height=\"24px\"viewBox=\"0 0 24 24\"\n",
       "     width=\"24px\">\n",
       "    <g>\n",
       "        <path d=\"M19 3H5c-1.1 0-2 .9-2 2v14c0 1.1.9 2 2 2h14c1.1 0 2-.9 2-2V5c0-1.1-.9-2-2-2zM9 17H7v-7h2v7zm4 0h-2V7h2v10zm4 0h-2v-4h2v4z\"/>\n",
       "    </g>\n",
       "</svg>\n",
       "  </button>\n",
       "\n",
       "<style>\n",
       "  .colab-df-quickchart {\n",
       "      --bg-color: #E8F0FE;\n",
       "      --fill-color: #1967D2;\n",
       "      --hover-bg-color: #E2EBFA;\n",
       "      --hover-fill-color: #174EA6;\n",
       "      --disabled-fill-color: #AAA;\n",
       "      --disabled-bg-color: #DDD;\n",
       "  }\n",
       "\n",
       "  [theme=dark] .colab-df-quickchart {\n",
       "      --bg-color: #3B4455;\n",
       "      --fill-color: #D2E3FC;\n",
       "      --hover-bg-color: #434B5C;\n",
       "      --hover-fill-color: #FFFFFF;\n",
       "      --disabled-bg-color: #3B4455;\n",
       "      --disabled-fill-color: #666;\n",
       "  }\n",
       "\n",
       "  .colab-df-quickchart {\n",
       "    background-color: var(--bg-color);\n",
       "    border: none;\n",
       "    border-radius: 50%;\n",
       "    cursor: pointer;\n",
       "    display: none;\n",
       "    fill: var(--fill-color);\n",
       "    height: 32px;\n",
       "    padding: 0;\n",
       "    width: 32px;\n",
       "  }\n",
       "\n",
       "  .colab-df-quickchart:hover {\n",
       "    background-color: var(--hover-bg-color);\n",
       "    box-shadow: 0 1px 2px rgba(60, 64, 67, 0.3), 0 1px 3px 1px rgba(60, 64, 67, 0.15);\n",
       "    fill: var(--button-hover-fill-color);\n",
       "  }\n",
       "\n",
       "  .colab-df-quickchart-complete:disabled,\n",
       "  .colab-df-quickchart-complete:disabled:hover {\n",
       "    background-color: var(--disabled-bg-color);\n",
       "    fill: var(--disabled-fill-color);\n",
       "    box-shadow: none;\n",
       "  }\n",
       "\n",
       "  .colab-df-spinner {\n",
       "    border: 2px solid var(--fill-color);\n",
       "    border-color: transparent;\n",
       "    border-bottom-color: var(--fill-color);\n",
       "    animation:\n",
       "      spin 1s steps(1) infinite;\n",
       "  }\n",
       "\n",
       "  @keyframes spin {\n",
       "    0% {\n",
       "      border-color: transparent;\n",
       "      border-bottom-color: var(--fill-color);\n",
       "      border-left-color: var(--fill-color);\n",
       "    }\n",
       "    20% {\n",
       "      border-color: transparent;\n",
       "      border-left-color: var(--fill-color);\n",
       "      border-top-color: var(--fill-color);\n",
       "    }\n",
       "    30% {\n",
       "      border-color: transparent;\n",
       "      border-left-color: var(--fill-color);\n",
       "      border-top-color: var(--fill-color);\n",
       "      border-right-color: var(--fill-color);\n",
       "    }\n",
       "    40% {\n",
       "      border-color: transparent;\n",
       "      border-right-color: var(--fill-color);\n",
       "      border-top-color: var(--fill-color);\n",
       "    }\n",
       "    60% {\n",
       "      border-color: transparent;\n",
       "      border-right-color: var(--fill-color);\n",
       "    }\n",
       "    80% {\n",
       "      border-color: transparent;\n",
       "      border-right-color: var(--fill-color);\n",
       "      border-bottom-color: var(--fill-color);\n",
       "    }\n",
       "    90% {\n",
       "      border-color: transparent;\n",
       "      border-bottom-color: var(--fill-color);\n",
       "    }\n",
       "  }\n",
       "</style>\n",
       "\n",
       "  <script>\n",
       "    async function quickchart(key) {\n",
       "      const quickchartButtonEl =\n",
       "        document.querySelector('#' + key + ' button');\n",
       "      quickchartButtonEl.disabled = true;  // To prevent multiple clicks.\n",
       "      quickchartButtonEl.classList.add('colab-df-spinner');\n",
       "      try {\n",
       "        const charts = await google.colab.kernel.invokeFunction(\n",
       "            'suggestCharts', [key], {});\n",
       "      } catch (error) {\n",
       "        console.error('Error during call to suggestCharts:', error);\n",
       "      }\n",
       "      quickchartButtonEl.classList.remove('colab-df-spinner');\n",
       "      quickchartButtonEl.classList.add('colab-df-quickchart-complete');\n",
       "    }\n",
       "    (() => {\n",
       "      let quickchartButtonEl =\n",
       "        document.querySelector('#df-e1c08ba1-358b-4489-9609-32b693cf6eb8 button');\n",
       "      quickchartButtonEl.style.display =\n",
       "        google.colab.kernel.accessAllowed ? 'block' : 'none';\n",
       "    })();\n",
       "  </script>\n",
       "</div>\n",
       "\n",
       "  <div id=\"id_da98843c-4218-4dae-ac0e-4addb85facae\">\n",
       "    <style>\n",
       "      .colab-df-generate {\n",
       "        background-color: #E8F0FE;\n",
       "        border: none;\n",
       "        border-radius: 50%;\n",
       "        cursor: pointer;\n",
       "        display: none;\n",
       "        fill: #1967D2;\n",
       "        height: 32px;\n",
       "        padding: 0 0 0 0;\n",
       "        width: 32px;\n",
       "      }\n",
       "\n",
       "      .colab-df-generate:hover {\n",
       "        background-color: #E2EBFA;\n",
       "        box-shadow: 0px 1px 2px rgba(60, 64, 67, 0.3), 0px 1px 3px 1px rgba(60, 64, 67, 0.15);\n",
       "        fill: #174EA6;\n",
       "      }\n",
       "\n",
       "      [theme=dark] .colab-df-generate {\n",
       "        background-color: #3B4455;\n",
       "        fill: #D2E3FC;\n",
       "      }\n",
       "\n",
       "      [theme=dark] .colab-df-generate:hover {\n",
       "        background-color: #434B5C;\n",
       "        box-shadow: 0px 1px 3px 1px rgba(0, 0, 0, 0.15);\n",
       "        filter: drop-shadow(0px 1px 2px rgba(0, 0, 0, 0.3));\n",
       "        fill: #FFFFFF;\n",
       "      }\n",
       "    </style>\n",
       "    <button class=\"colab-df-generate\" onclick=\"generateWithVariable('df')\"\n",
       "            title=\"Generate code using this dataframe.\"\n",
       "            style=\"display:none;\">\n",
       "\n",
       "  <svg xmlns=\"http://www.w3.org/2000/svg\" height=\"24px\"viewBox=\"0 0 24 24\"\n",
       "       width=\"24px\">\n",
       "    <path d=\"M7,19H8.4L18.45,9,17,7.55,7,17.6ZM5,21V16.75L18.45,3.32a2,2,0,0,1,2.83,0l1.4,1.43a1.91,1.91,0,0,1,.58,1.4,1.91,1.91,0,0,1-.58,1.4L9.25,21ZM18.45,9,17,7.55Zm-12,3A5.31,5.31,0,0,0,4.9,8.1,5.31,5.31,0,0,0,1,6.5,5.31,5.31,0,0,0,4.9,4.9,5.31,5.31,0,0,0,6.5,1,5.31,5.31,0,0,0,8.1,4.9,5.31,5.31,0,0,0,12,6.5,5.46,5.46,0,0,0,6.5,12Z\"/>\n",
       "  </svg>\n",
       "    </button>\n",
       "    <script>\n",
       "      (() => {\n",
       "      const buttonEl =\n",
       "        document.querySelector('#id_da98843c-4218-4dae-ac0e-4addb85facae button.colab-df-generate');\n",
       "      buttonEl.style.display =\n",
       "        google.colab.kernel.accessAllowed ? 'block' : 'none';\n",
       "\n",
       "      buttonEl.onclick = () => {\n",
       "        google.colab.notebook.generateWithVariable('df');\n",
       "      }\n",
       "      })();\n",
       "    </script>\n",
       "  </div>\n",
       "\n",
       "    </div>\n",
       "  </div>\n"
      ],
      "text/plain": [
       "                    Name  Category   Latitude  Longitude\n",
       "0  Empire State Building  Landmark  40.748817 -73.985428\n",
       "1      Statue of Liberty  Landmark  40.689247 -74.044502\n",
       "2           Central Park      Park  40.785091 -73.968285\n",
       "3           Times Square  Landmark  40.758000 -73.985500\n",
       "4        Brooklyn Bridge  Landmark  40.706100 -73.996900"
      ]
     },
     "execution_count": 6,
     "metadata": {},
     "output_type": "execute_result"
    }
   ],
   "source": [
    "import pandas as pd\n",
    "df=pd.read_csv('/Address.csv')\n",
    "df"
   ]
  },
  {
   "cell_type": "code",
   "execution_count": 7,
   "id": "3e5e3091-4d95-49dc-b829-170d4e6f2caf",
   "metadata": {
    "id": "3e5e3091-4d95-49dc-b829-170d4e6f2caf"
   },
   "outputs": [],
   "source": [
    "import math\n",
    "\n",
    "def haversine(lat1, lon1, lat2, lon2):\n",
    "    # Radius of the Earth in kilometers\n",
    "    R = 6371.0\n",
    "\n",
    "    # Convert latitude and longitude from degrees to radians\n",
    "    lat1_rad = math.radians(lat1)\n",
    "    lon1_rad = math.radians(lon1)\n",
    "    lat2_rad = math.radians(lat2)\n",
    "    lon2_rad = math.radians(lon2)\n",
    "\n",
    "    # Difference in coordinates\n",
    "    dlat = lat2_rad - lat1_rad\n",
    "    dlon = lon2_rad - lon1_rad\n",
    "\n",
    "    # Haversine formula\n",
    "    a = math.sin(dlat / 2)**2 + math.cos(lat1_rad) * math.cos(lat2_rad) * math.sin(dlon / 2)**2\n",
    "    c = 2 * math.atan2(math.sqrt(a), math.sqrt(1 - a))\n",
    "\n",
    "    # Distance in kilometers\n",
    "    distance = R * c\n",
    "\n",
    "    return distance"
   ]
  },
  {
   "cell_type": "code",
   "execution_count": 8,
   "id": "4b115e48-19fd-47e3-840d-0d68065e55af",
   "metadata": {
    "id": "4b115e48-19fd-47e3-840d-0d68065e55af"
   },
   "outputs": [],
   "source": [
    "# Extract the first row\n",
    "pp0,pp1=df.iloc[0,-2:]\n",
    "\n",
    "# Compute distance from the pp to all other delivery point\n",
    "df['dist_km'] = df.apply(lambda row: haversine(pp0,pp1,row['Latitude'],row['Longitude']),axis=1)"
   ]
  },
  {
   "cell_type": "code",
   "execution_count": 9,
   "id": "5eff21f3-1079-4819-8aeb-4cc14353a0a4",
   "metadata": {
    "colab": {
     "base_uri": "https://localhost:8080/",
     "height": 206
    },
    "id": "5eff21f3-1079-4819-8aeb-4cc14353a0a4",
    "outputId": "e7bff38a-5405-4e97-a810-1242b21a45c1"
   },
   "outputs": [
    {
     "data": {
      "application/vnd.google.colaboratory.intrinsic+json": {
       "summary": "{\n  \"name\": \"df\",\n  \"rows\": 5,\n  \"fields\": [\n    {\n      \"column\": \"Name\",\n      \"properties\": {\n        \"dtype\": \"string\",\n        \"num_unique_values\": 5,\n        \"samples\": [\n          \"Statue of Liberty\",\n          \"Brooklyn Bridge\",\n          \"Central Park\"\n        ],\n        \"semantic_type\": \"\",\n        \"description\": \"\"\n      }\n    },\n    {\n      \"column\": \"Category\",\n      \"properties\": {\n        \"dtype\": \"category\",\n        \"num_unique_values\": 2,\n        \"samples\": [\n          \"Park\",\n          \"Landmark\"\n        ],\n        \"semantic_type\": \"\",\n        \"description\": \"\"\n      }\n    },\n    {\n      \"column\": \"Latitude\",\n      \"properties\": {\n        \"dtype\": \"number\",\n        \"std\": 0.03913926345116937,\n        \"min\": 40.689247,\n        \"max\": 40.785091,\n        \"num_unique_values\": 5,\n        \"samples\": [\n          40.689247,\n          40.7061\n        ],\n        \"semantic_type\": \"\",\n        \"description\": \"\"\n      }\n    },\n    {\n      \"column\": \"Longitude\",\n      \"properties\": {\n        \"dtype\": \"number\",\n        \"std\": 0.02891071067960684,\n        \"min\": -74.044502,\n        \"max\": -73.968285,\n        \"num_unique_values\": 5,\n        \"samples\": [\n          -74.044502,\n          -73.9969\n        ],\n        \"semantic_type\": \"\",\n        \"description\": \"\"\n      }\n    },\n    {\n      \"column\": \"dist_km\",\n      \"properties\": {\n        \"dtype\": \"number\",\n        \"std\": 3.299874108406816,\n        \"min\": 0.0,\n        \"max\": 8.286242884124512,\n        \"num_unique_values\": 5,\n        \"samples\": [\n          8.286242884124512,\n          4.847286495098867\n        ],\n        \"semantic_type\": \"\",\n        \"description\": \"\"\n      }\n    }\n  ]\n}",
       "type": "dataframe",
       "variable_name": "df"
      },
      "text/html": [
       "\n",
       "  <div id=\"df-8fb62cfb-d85f-4d5e-b5a6-f190f4a9e2ac\" class=\"colab-df-container\">\n",
       "    <div>\n",
       "<style scoped>\n",
       "    .dataframe tbody tr th:only-of-type {\n",
       "        vertical-align: middle;\n",
       "    }\n",
       "\n",
       "    .dataframe tbody tr th {\n",
       "        vertical-align: top;\n",
       "    }\n",
       "\n",
       "    .dataframe thead th {\n",
       "        text-align: right;\n",
       "    }\n",
       "</style>\n",
       "<table border=\"1\" class=\"dataframe\">\n",
       "  <thead>\n",
       "    <tr style=\"text-align: right;\">\n",
       "      <th></th>\n",
       "      <th>Name</th>\n",
       "      <th>Category</th>\n",
       "      <th>Latitude</th>\n",
       "      <th>Longitude</th>\n",
       "      <th>dist_km</th>\n",
       "    </tr>\n",
       "  </thead>\n",
       "  <tbody>\n",
       "    <tr>\n",
       "      <th>0</th>\n",
       "      <td>Empire State Building</td>\n",
       "      <td>Landmark</td>\n",
       "      <td>40.748817</td>\n",
       "      <td>-73.985428</td>\n",
       "      <td>0.000000</td>\n",
       "    </tr>\n",
       "    <tr>\n",
       "      <th>1</th>\n",
       "      <td>Statue of Liberty</td>\n",
       "      <td>Landmark</td>\n",
       "      <td>40.689247</td>\n",
       "      <td>-74.044502</td>\n",
       "      <td>8.286243</td>\n",
       "    </tr>\n",
       "    <tr>\n",
       "      <th>2</th>\n",
       "      <td>Central Park</td>\n",
       "      <td>Park</td>\n",
       "      <td>40.785091</td>\n",
       "      <td>-73.968285</td>\n",
       "      <td>4.284076</td>\n",
       "    </tr>\n",
       "    <tr>\n",
       "      <th>3</th>\n",
       "      <td>Times Square</td>\n",
       "      <td>Landmark</td>\n",
       "      <td>40.758000</td>\n",
       "      <td>-73.985500</td>\n",
       "      <td>1.021121</td>\n",
       "    </tr>\n",
       "    <tr>\n",
       "      <th>4</th>\n",
       "      <td>Brooklyn Bridge</td>\n",
       "      <td>Landmark</td>\n",
       "      <td>40.706100</td>\n",
       "      <td>-73.996900</td>\n",
       "      <td>4.847286</td>\n",
       "    </tr>\n",
       "  </tbody>\n",
       "</table>\n",
       "</div>\n",
       "    <div class=\"colab-df-buttons\">\n",
       "\n",
       "  <div class=\"colab-df-container\">\n",
       "    <button class=\"colab-df-convert\" onclick=\"convertToInteractive('df-8fb62cfb-d85f-4d5e-b5a6-f190f4a9e2ac')\"\n",
       "            title=\"Convert this dataframe to an interactive table.\"\n",
       "            style=\"display:none;\">\n",
       "\n",
       "  <svg xmlns=\"http://www.w3.org/2000/svg\" height=\"24px\" viewBox=\"0 -960 960 960\">\n",
       "    <path d=\"M120-120v-720h720v720H120Zm60-500h600v-160H180v160Zm220 220h160v-160H400v160Zm0 220h160v-160H400v160ZM180-400h160v-160H180v160Zm440 0h160v-160H620v160ZM180-180h160v-160H180v160Zm440 0h160v-160H620v160Z\"/>\n",
       "  </svg>\n",
       "    </button>\n",
       "\n",
       "  <style>\n",
       "    .colab-df-container {\n",
       "      display:flex;\n",
       "      gap: 12px;\n",
       "    }\n",
       "\n",
       "    .colab-df-convert {\n",
       "      background-color: #E8F0FE;\n",
       "      border: none;\n",
       "      border-radius: 50%;\n",
       "      cursor: pointer;\n",
       "      display: none;\n",
       "      fill: #1967D2;\n",
       "      height: 32px;\n",
       "      padding: 0 0 0 0;\n",
       "      width: 32px;\n",
       "    }\n",
       "\n",
       "    .colab-df-convert:hover {\n",
       "      background-color: #E2EBFA;\n",
       "      box-shadow: 0px 1px 2px rgba(60, 64, 67, 0.3), 0px 1px 3px 1px rgba(60, 64, 67, 0.15);\n",
       "      fill: #174EA6;\n",
       "    }\n",
       "\n",
       "    .colab-df-buttons div {\n",
       "      margin-bottom: 4px;\n",
       "    }\n",
       "\n",
       "    [theme=dark] .colab-df-convert {\n",
       "      background-color: #3B4455;\n",
       "      fill: #D2E3FC;\n",
       "    }\n",
       "\n",
       "    [theme=dark] .colab-df-convert:hover {\n",
       "      background-color: #434B5C;\n",
       "      box-shadow: 0px 1px 3px 1px rgba(0, 0, 0, 0.15);\n",
       "      filter: drop-shadow(0px 1px 2px rgba(0, 0, 0, 0.3));\n",
       "      fill: #FFFFFF;\n",
       "    }\n",
       "  </style>\n",
       "\n",
       "    <script>\n",
       "      const buttonEl =\n",
       "        document.querySelector('#df-8fb62cfb-d85f-4d5e-b5a6-f190f4a9e2ac button.colab-df-convert');\n",
       "      buttonEl.style.display =\n",
       "        google.colab.kernel.accessAllowed ? 'block' : 'none';\n",
       "\n",
       "      async function convertToInteractive(key) {\n",
       "        const element = document.querySelector('#df-8fb62cfb-d85f-4d5e-b5a6-f190f4a9e2ac');\n",
       "        const dataTable =\n",
       "          await google.colab.kernel.invokeFunction('convertToInteractive',\n",
       "                                                    [key], {});\n",
       "        if (!dataTable) return;\n",
       "\n",
       "        const docLinkHtml = 'Like what you see? Visit the ' +\n",
       "          '<a target=\"_blank\" href=https://colab.research.google.com/notebooks/data_table.ipynb>data table notebook</a>'\n",
       "          + ' to learn more about interactive tables.';\n",
       "        element.innerHTML = '';\n",
       "        dataTable['output_type'] = 'display_data';\n",
       "        await google.colab.output.renderOutput(dataTable, element);\n",
       "        const docLink = document.createElement('div');\n",
       "        docLink.innerHTML = docLinkHtml;\n",
       "        element.appendChild(docLink);\n",
       "      }\n",
       "    </script>\n",
       "  </div>\n",
       "\n",
       "\n",
       "<div id=\"df-82351700-afdb-486a-be35-5bf53946621f\">\n",
       "  <button class=\"colab-df-quickchart\" onclick=\"quickchart('df-82351700-afdb-486a-be35-5bf53946621f')\"\n",
       "            title=\"Suggest charts\"\n",
       "            style=\"display:none;\">\n",
       "\n",
       "<svg xmlns=\"http://www.w3.org/2000/svg\" height=\"24px\"viewBox=\"0 0 24 24\"\n",
       "     width=\"24px\">\n",
       "    <g>\n",
       "        <path d=\"M19 3H5c-1.1 0-2 .9-2 2v14c0 1.1.9 2 2 2h14c1.1 0 2-.9 2-2V5c0-1.1-.9-2-2-2zM9 17H7v-7h2v7zm4 0h-2V7h2v10zm4 0h-2v-4h2v4z\"/>\n",
       "    </g>\n",
       "</svg>\n",
       "  </button>\n",
       "\n",
       "<style>\n",
       "  .colab-df-quickchart {\n",
       "      --bg-color: #E8F0FE;\n",
       "      --fill-color: #1967D2;\n",
       "      --hover-bg-color: #E2EBFA;\n",
       "      --hover-fill-color: #174EA6;\n",
       "      --disabled-fill-color: #AAA;\n",
       "      --disabled-bg-color: #DDD;\n",
       "  }\n",
       "\n",
       "  [theme=dark] .colab-df-quickchart {\n",
       "      --bg-color: #3B4455;\n",
       "      --fill-color: #D2E3FC;\n",
       "      --hover-bg-color: #434B5C;\n",
       "      --hover-fill-color: #FFFFFF;\n",
       "      --disabled-bg-color: #3B4455;\n",
       "      --disabled-fill-color: #666;\n",
       "  }\n",
       "\n",
       "  .colab-df-quickchart {\n",
       "    background-color: var(--bg-color);\n",
       "    border: none;\n",
       "    border-radius: 50%;\n",
       "    cursor: pointer;\n",
       "    display: none;\n",
       "    fill: var(--fill-color);\n",
       "    height: 32px;\n",
       "    padding: 0;\n",
       "    width: 32px;\n",
       "  }\n",
       "\n",
       "  .colab-df-quickchart:hover {\n",
       "    background-color: var(--hover-bg-color);\n",
       "    box-shadow: 0 1px 2px rgba(60, 64, 67, 0.3), 0 1px 3px 1px rgba(60, 64, 67, 0.15);\n",
       "    fill: var(--button-hover-fill-color);\n",
       "  }\n",
       "\n",
       "  .colab-df-quickchart-complete:disabled,\n",
       "  .colab-df-quickchart-complete:disabled:hover {\n",
       "    background-color: var(--disabled-bg-color);\n",
       "    fill: var(--disabled-fill-color);\n",
       "    box-shadow: none;\n",
       "  }\n",
       "\n",
       "  .colab-df-spinner {\n",
       "    border: 2px solid var(--fill-color);\n",
       "    border-color: transparent;\n",
       "    border-bottom-color: var(--fill-color);\n",
       "    animation:\n",
       "      spin 1s steps(1) infinite;\n",
       "  }\n",
       "\n",
       "  @keyframes spin {\n",
       "    0% {\n",
       "      border-color: transparent;\n",
       "      border-bottom-color: var(--fill-color);\n",
       "      border-left-color: var(--fill-color);\n",
       "    }\n",
       "    20% {\n",
       "      border-color: transparent;\n",
       "      border-left-color: var(--fill-color);\n",
       "      border-top-color: var(--fill-color);\n",
       "    }\n",
       "    30% {\n",
       "      border-color: transparent;\n",
       "      border-left-color: var(--fill-color);\n",
       "      border-top-color: var(--fill-color);\n",
       "      border-right-color: var(--fill-color);\n",
       "    }\n",
       "    40% {\n",
       "      border-color: transparent;\n",
       "      border-right-color: var(--fill-color);\n",
       "      border-top-color: var(--fill-color);\n",
       "    }\n",
       "    60% {\n",
       "      border-color: transparent;\n",
       "      border-right-color: var(--fill-color);\n",
       "    }\n",
       "    80% {\n",
       "      border-color: transparent;\n",
       "      border-right-color: var(--fill-color);\n",
       "      border-bottom-color: var(--fill-color);\n",
       "    }\n",
       "    90% {\n",
       "      border-color: transparent;\n",
       "      border-bottom-color: var(--fill-color);\n",
       "    }\n",
       "  }\n",
       "</style>\n",
       "\n",
       "  <script>\n",
       "    async function quickchart(key) {\n",
       "      const quickchartButtonEl =\n",
       "        document.querySelector('#' + key + ' button');\n",
       "      quickchartButtonEl.disabled = true;  // To prevent multiple clicks.\n",
       "      quickchartButtonEl.classList.add('colab-df-spinner');\n",
       "      try {\n",
       "        const charts = await google.colab.kernel.invokeFunction(\n",
       "            'suggestCharts', [key], {});\n",
       "      } catch (error) {\n",
       "        console.error('Error during call to suggestCharts:', error);\n",
       "      }\n",
       "      quickchartButtonEl.classList.remove('colab-df-spinner');\n",
       "      quickchartButtonEl.classList.add('colab-df-quickchart-complete');\n",
       "    }\n",
       "    (() => {\n",
       "      let quickchartButtonEl =\n",
       "        document.querySelector('#df-82351700-afdb-486a-be35-5bf53946621f button');\n",
       "      quickchartButtonEl.style.display =\n",
       "        google.colab.kernel.accessAllowed ? 'block' : 'none';\n",
       "    })();\n",
       "  </script>\n",
       "</div>\n",
       "\n",
       "  <div id=\"id_8ee9bd7b-b1c6-46e5-b64a-9798c8cf7d3e\">\n",
       "    <style>\n",
       "      .colab-df-generate {\n",
       "        background-color: #E8F0FE;\n",
       "        border: none;\n",
       "        border-radius: 50%;\n",
       "        cursor: pointer;\n",
       "        display: none;\n",
       "        fill: #1967D2;\n",
       "        height: 32px;\n",
       "        padding: 0 0 0 0;\n",
       "        width: 32px;\n",
       "      }\n",
       "\n",
       "      .colab-df-generate:hover {\n",
       "        background-color: #E2EBFA;\n",
       "        box-shadow: 0px 1px 2px rgba(60, 64, 67, 0.3), 0px 1px 3px 1px rgba(60, 64, 67, 0.15);\n",
       "        fill: #174EA6;\n",
       "      }\n",
       "\n",
       "      [theme=dark] .colab-df-generate {\n",
       "        background-color: #3B4455;\n",
       "        fill: #D2E3FC;\n",
       "      }\n",
       "\n",
       "      [theme=dark] .colab-df-generate:hover {\n",
       "        background-color: #434B5C;\n",
       "        box-shadow: 0px 1px 3px 1px rgba(0, 0, 0, 0.15);\n",
       "        filter: drop-shadow(0px 1px 2px rgba(0, 0, 0, 0.3));\n",
       "        fill: #FFFFFF;\n",
       "      }\n",
       "    </style>\n",
       "    <button class=\"colab-df-generate\" onclick=\"generateWithVariable('df')\"\n",
       "            title=\"Generate code using this dataframe.\"\n",
       "            style=\"display:none;\">\n",
       "\n",
       "  <svg xmlns=\"http://www.w3.org/2000/svg\" height=\"24px\"viewBox=\"0 0 24 24\"\n",
       "       width=\"24px\">\n",
       "    <path d=\"M7,19H8.4L18.45,9,17,7.55,7,17.6ZM5,21V16.75L18.45,3.32a2,2,0,0,1,2.83,0l1.4,1.43a1.91,1.91,0,0,1,.58,1.4,1.91,1.91,0,0,1-.58,1.4L9.25,21ZM18.45,9,17,7.55Zm-12,3A5.31,5.31,0,0,0,4.9,8.1,5.31,5.31,0,0,0,1,6.5,5.31,5.31,0,0,0,4.9,4.9,5.31,5.31,0,0,0,6.5,1,5.31,5.31,0,0,0,8.1,4.9,5.31,5.31,0,0,0,12,6.5,5.46,5.46,0,0,0,6.5,12Z\"/>\n",
       "  </svg>\n",
       "    </button>\n",
       "    <script>\n",
       "      (() => {\n",
       "      const buttonEl =\n",
       "        document.querySelector('#id_8ee9bd7b-b1c6-46e5-b64a-9798c8cf7d3e button.colab-df-generate');\n",
       "      buttonEl.style.display =\n",
       "        google.colab.kernel.accessAllowed ? 'block' : 'none';\n",
       "\n",
       "      buttonEl.onclick = () => {\n",
       "        google.colab.notebook.generateWithVariable('df');\n",
       "      }\n",
       "      })();\n",
       "    </script>\n",
       "  </div>\n",
       "\n",
       "    </div>\n",
       "  </div>\n"
      ],
      "text/plain": [
       "                    Name  Category   Latitude  Longitude   dist_km\n",
       "0  Empire State Building  Landmark  40.748817 -73.985428  0.000000\n",
       "1      Statue of Liberty  Landmark  40.689247 -74.044502  8.286243\n",
       "2           Central Park      Park  40.785091 -73.968285  4.284076\n",
       "3           Times Square  Landmark  40.758000 -73.985500  1.021121\n",
       "4        Brooklyn Bridge  Landmark  40.706100 -73.996900  4.847286"
      ]
     },
     "execution_count": 9,
     "metadata": {},
     "output_type": "execute_result"
    }
   ],
   "source": [
    "df"
   ]
  },
  {
   "cell_type": "code",
   "execution_count": 10,
   "id": "79eb52e6-ed47-4c29-a38d-6b2247a4142e",
   "metadata": {
    "id": "79eb52e6-ed47-4c29-a38d-6b2247a4142e"
   },
   "outputs": [],
   "source": [
    "# from geopy.distance import geodesic\n",
    "# distance = geodesic((40.748817,-73.985428), (40.785091,-73.968285)).kilometers\n",
    "# distance"
   ]
  },
  {
   "cell_type": "code",
   "execution_count": 11,
   "id": "956861e6-add3-48f7-a118-6e17179d6778",
   "metadata": {
    "id": "956861e6-add3-48f7-a118-6e17179d6778"
   },
   "outputs": [],
   "source": [
    "# !pip install graphlet\n",
    "#!pip install matplotlib"
   ]
  },
  {
   "cell_type": "code",
   "execution_count": 12,
   "id": "53fea0ce-be94-45c7-bfde-267beffd58f9",
   "metadata": {
    "id": "53fea0ce-be94-45c7-bfde-267beffd58f9"
   },
   "outputs": [],
   "source": [
    "#import graphlet as gt\n",
    "import matplotlib.pyplot as plt\n",
    "import networkx as nx\n",
    "import numpy as np"
   ]
  },
  {
   "cell_type": "code",
   "execution_count": 14,
   "id": "710f4350-6efe-4181-b8a3-184fb7e4ba22",
   "metadata": {
    "colab": {
     "base_uri": "https://localhost:8080/"
    },
    "id": "710f4350-6efe-4181-b8a3-184fb7e4ba22",
    "outputId": "f9c41c12-ae1e-45ce-c124-615c40727d45"
   },
   "outputs": [
    {
     "name": "stdout",
     "output_type": "stream",
     "text": [
      "CPU times: user 1.46 ms, sys: 0 ns, total: 1.46 ms\n",
      "Wall time: 1.83 ms\n"
     ]
    }
   ],
   "source": [
    "%%time\n",
    "# Create a graph\n",
    "G = nx.DiGraph()\n",
    "\n",
    "# Add nodes for each place\n",
    "for index, row in df.iterrows():\n",
    "    G.add_node(row['Name'], lat=row['Latitude'], lon=row['Longitude'])\n",
    "\n",
    "# Add edges between the first place (Place A) and all other places based on the distance\n",
    "for index, row in df.iterrows():\n",
    "    if row['Name'] != 'Empire State Building':\n",
    "        G.add_edge('Empire State Building', row['Name'], weight=round(row['dist_km'],2))"
   ]
  },
  {
   "cell_type": "code",
   "execution_count": 15,
   "id": "959c8458-3ca1-4f33-a5a6-e99bf58f8712",
   "metadata": {
    "colab": {
     "base_uri": "https://localhost:8080/"
    },
    "id": "959c8458-3ca1-4f33-a5a6-e99bf58f8712",
    "outputId": "6ad25a12-9d1a-401a-ed18-d1675ad1be93"
   },
   "outputs": [
    {
     "data": {
      "text/plain": [
       "{'lat': 40.748817, 'lon': -73.985428}"
      ]
     },
     "execution_count": 15,
     "metadata": {},
     "output_type": "execute_result"
    }
   ],
   "source": [
    "G.nodes['Empire State Building']"
   ]
  },
  {
   "cell_type": "code",
   "execution_count": 16,
   "id": "41057256-2d2f-4386-94a4-d13bb948c941",
   "metadata": {
    "id": "41057256-2d2f-4386-94a4-d13bb948c941"
   },
   "outputs": [],
   "source": [
    "\n",
    "# Create a layout for the graph\n",
    "layout = {}\n",
    "for node in G.nodes:\n",
    "    lat = G.nodes[node]['lat']\n",
    "    lon = G.nodes[node]['lon']\n",
    "    layout[node] = (lon, lat)\n",
    "# Use longitude and latitude as the x and y coordinates"
   ]
  },
  {
   "cell_type": "code",
   "execution_count": 17,
   "id": "7e58f138-a604-4f97-91aa-b7e08845e76f",
   "metadata": {
    "colab": {
     "base_uri": "https://localhost:8080/"
    },
    "id": "7e58f138-a604-4f97-91aa-b7e08845e76f",
    "outputId": "938a67f5-ab35-4313-842c-0e890aff5340"
   },
   "outputs": [
    {
     "data": {
      "text/plain": [
       "{'Empire State Building': (-73.985428, 40.748817),\n",
       " 'Statue of Liberty': (-74.044502, 40.689247),\n",
       " 'Central Park': (-73.968285, 40.785091),\n",
       " 'Times Square': (-73.9855, 40.758),\n",
       " 'Brooklyn Bridge': (-73.9969, 40.7061)}"
      ]
     },
     "execution_count": 17,
     "metadata": {},
     "output_type": "execute_result"
    }
   ],
   "source": [
    "layout"
   ]
  },
  {
   "cell_type": "code",
   "execution_count": 18,
   "id": "c9fa24dd-c3c6-4056-bda8-4e589949dfe1",
   "metadata": {
    "id": "c9fa24dd-c3c6-4056-bda8-4e589949dfe1"
   },
   "outputs": [],
   "source": [
    "# Get edge labels\n",
    "edge_labels = nx.get_edge_attributes(G, 'weight')"
   ]
  },
  {
   "cell_type": "code",
   "execution_count": 19,
   "id": "391503ba-992e-44e7-abf1-58b21f6b0e1b",
   "metadata": {
    "colab": {
     "base_uri": "https://localhost:8080/",
     "height": 859
    },
    "id": "391503ba-992e-44e7-abf1-58b21f6b0e1b",
    "outputId": "2358c4ca-335a-4a2a-d4a4-deeebd874ac1"
   },
   "outputs": [
    {
     "data": {
      "image/png": "[encoded data removed]",
      "text/plain": [
       "<Figure size 800x800 with 1 Axes>"
      ]
     },
     "metadata": {},
     "output_type": "display_data"
    }
   ],
   "source": [
    "# Draw the graph\n",
    "plt.figure(figsize=(8, 8))\n",
    "pos = layout\n",
    "#pos = nx.spring_layout(G)\n",
    "nx.draw(G, pos, with_labels=True, node_size=500, node_color='skyblue', font_size=10, font_weight='bold', edge_color='gray')\n",
    "nx.draw_networkx_edge_labels(G, pos, edge_labels=edge_labels)\n",
    "plt.title('Name vs Distance from Place A')\n",
    "plt.show()\n"
   ]
  },
  {
   "cell_type": "code",
   "execution_count": null,
   "id": "281b0fc1-d014-4eea-a628-178bd645cc3d",
   "metadata": {
    "id": "281b0fc1-d014-4eea-a628-178bd645cc3d"
   },
   "outputs": [],
   "source": [
    "# # Adjust edge width based on distance\n",
    "# edge_widths = [G[u][v]['weight'] for u, v in G.edges]\n",
    "# nx.draw(G, pos, with_labels=True, node_size=200, node_color='skyblue', font_size=12, font_weight='bold',\n",
    "#         edge_color=edge_widths, width=2, cmap=plt.cm.Blues)\n"
   ]
  },
  {
   "cell_type": "code",
   "execution_count": 20,
   "id": "c30dd0ec-a378-4be5-b268-b3038770b40f",
   "metadata": {
    "colab": {
     "base_uri": "https://localhost:8080/"
    },
    "id": "c30dd0ec-a378-4be5-b268-b3038770b40f",
    "outputId": "875a9bf3-83d1-45ab-e124-98508a12533a"
   },
   "outputs": [
    {
     "name": "stdout",
     "output_type": "stream",
     "text": [
      "CPU times: user 3.92 ms, sys: 0 ns, total: 3.92 ms\n",
      "Wall time: 3.93 ms\n"
     ]
    }
   ],
   "source": [
    "%%time\n",
    "distances = pd.DataFrame(index=df.index, columns=df.index)\n",
    "for i in df.index:\n",
    "    for j in df.index:\n",
    "        if i != j:\n",
    "            distances.loc[i, j] = haversine(df.loc[i, \"Latitude\"],df.loc[i, \"Longitude\"], df.loc[j, \"Latitude\"], df.loc[j, \"Longitude\"])"
   ]
  },
  {
   "cell_type": "code",
   "execution_count": 21,
   "id": "b79025a2-7833-411d-a5de-a409a5b917b4",
   "metadata": {
    "colab": {
     "base_uri": "https://localhost:8080/"
    },
    "id": "b79025a2-7833-411d-a5de-a409a5b917b4",
    "outputId": "4612fef7-de0e-405a-8b89-40fcc434e6f2"
   },
   "outputs": [
    {
     "name": "stderr",
     "output_type": "stream",
     "text": [
      "<ipython-input-21-52eb30a09540>:3: FutureWarning: Downcasting object dtype arrays on .fillna, .ffill, .bfill is deprecated and will change in a future version. Call result.infer_objects(copy=False) instead. To opt-in to the future behavior, set `pd.set_option('future.no_silent_downcasting', True)`\n",
      "  distances.fillna(0,inplace=True)\n"
     ]
    }
   ],
   "source": [
    "distances.index=df.Name\n",
    "distances.columns=df.Name\n",
    "distances.fillna(0,inplace=True)"
   ]
  },
  {
   "cell_type": "code",
   "execution_count": 22,
   "id": "b086cd78-b641-41a8-895b-bec3eed15267",
   "metadata": {
    "id": "b086cd78-b641-41a8-895b-bec3eed15267"
   },
   "outputs": [],
   "source": [
    "from networkx.algorithms.approximation import traveling_salesman_problem"
   ]
  },
  {
   "cell_type": "code",
   "execution_count": 23,
   "id": "130dde63-8e80-4e94-90ad-56fe7d8563a3",
   "metadata": {
    "colab": {
     "base_uri": "https://localhost:8080/",
     "height": 896
    },
    "id": "130dde63-8e80-4e94-90ad-56fe7d8563a3",
    "outputId": "c627b86d-3487-4229-cb1e-dd3e418ba9e0"
   },
   "outputs": [
    {
     "data": {
      "image/png": "[encoded data removed]",
      "text/plain": [
       "<Figure size 800x800 with 1 Axes>"
      ]
     },
     "metadata": {},
     "output_type": "display_data"
    },
    {
     "name": "stdout",
     "output_type": "stream",
     "text": [
      "CPU times: user 1.51 s, sys: 411 ms, total: 1.93 s\n",
      "Wall time: 1.64 s\n"
     ]
    }
   ],
   "source": [
    "#Distance matrix to graph\n",
    "%%time\n",
    "G= nx.DiGraph()\n",
    "distance_matrix=distances\n",
    "for i in distance_matrix.index:\n",
    "    for j in distance_matrix.columns:\n",
    "        if i != j:  # Exclude self-loops\n",
    "            G.add_edge(i, j, weight=round(distance_matrix.loc[i, j],2))\n",
    "\n",
    "# Find an approximate Traveling Salesman Path\n",
    "tsp_path = traveling_salesman_problem(G, cycle=True, weight='weight')\n",
    "\n",
    "plt.figure(figsize=(8, 8))\n",
    "# Visualize the TSP path\n",
    "pos = nx.spring_layout(G)  # Layout for positioning nodes\n",
    "\n",
    "# Draw the graph\n",
    "nx.draw(G, pos, with_labels=True, node_color=\"skyblue\", node_size=700, font_size=10,font_weight=\"bold\")\n",
    "labels = nx.get_edge_attributes(G, 'weight')\n",
    "nx.draw_networkx_edge_labels(G, pos, edge_labels=labels, font_size=8,verticalalignment=\"bottom\")\n",
    "\n",
    "# Highlight the TSP path\n",
    "tsp_edges = list(zip(tsp_path, tsp_path[1:]))\n",
    "nx.draw_networkx_edges(G, pos, edgelist=tsp_edges, edge_color=\"green\", width=2)\n",
    "# Highlight TSP nodes in a different color\n",
    "# Show the plot\n",
    "plt.title(\"Traveling Salesman Path Visualization\")\n",
    "plt.show()"
   ]
  },
  {
   "cell_type": "code",
   "execution_count": 24,
   "id": "9e91b81a-597f-4adc-ade6-60fa396a1704",
   "metadata": {
    "colab": {
     "base_uri": "https://localhost:8080/"
    },
    "id": "9e91b81a-597f-4adc-ade6-60fa396a1704",
    "outputId": "b820690a-927f-4d84-c7b3-b99d97e482a5"
   },
   "outputs": [
    {
     "name": "stdout",
     "output_type": "stream",
     "text": [
      "CPU times: user 433 ms, sys: 4.63 ms, total: 438 ms\n",
      "Wall time: 436 ms\n"
     ]
    }
   ],
   "source": [
    "# Find Shortest Path using TSP approach\n",
    "%%time\n",
    "tsp_path = traveling_salesman_problem(G, cycle=True, weight='weight')\n",
    "tsp_length = sum(G[u][v]['weight'] for u, v in zip(tsp_path, tsp_path[1:]))"
   ]
  },
  {
   "cell_type": "code",
   "execution_count": 25,
   "id": "8cd9a5b4-22f0-49b4-bb0e-3af4193d2407",
   "metadata": {
    "colab": {
     "base_uri": "https://localhost:8080/"
    },
    "id": "8cd9a5b4-22f0-49b4-bb0e-3af4193d2407",
    "outputId": "0ad9ff00-2188-4782-aa0c-6057130e0c70"
   },
   "outputs": [
    {
     "name": "stdout",
     "output_type": "stream",
     "text": [
      "TSP Path Length: 26.02 km\n"
     ]
    }
   ],
   "source": [
    "print(f\"TSP Path Length: {tsp_length:.2f} km\")"
   ]
  },
  {
   "cell_type": "code",
   "execution_count": 26,
   "id": "906f7053-0f34-4fac-a255-940a84ba038b",
   "metadata": {
    "colab": {
     "base_uri": "https://localhost:8080/"
    },
    "id": "906f7053-0f34-4fac-a255-940a84ba038b",
    "outputId": "e95b0bd2-a084-4fac-9ff0-4ef8f2a8c206"
   },
   "outputs": [
    {
     "data": {
      "text/plain": [
       "['Statue of Liberty',\n",
       " 'Brooklyn Bridge',\n",
       " 'Empire State Building',\n",
       " 'Central Park',\n",
       " 'Times Square',\n",
       " 'Statue of Liberty']"
      ]
     },
     "execution_count": 26,
     "metadata": {},
     "output_type": "execute_result"
    }
   ],
   "source": [
    "tsp_path"
   ]
  },
  {
   "cell_type": "code",
   "execution_count": 27,
   "id": "d556e8de-111e-4b3d-8442-a558ac8d6982",
   "metadata": {
    "id": "d556e8de-111e-4b3d-8442-a558ac8d6982"
   },
   "outputs": [],
   "source": [
    "import simplekml"
   ]
  },
  {
   "cell_type": "code",
   "execution_count": 28,
   "id": "bb413eec-ca5a-4035-943f-e35d30d772ea",
   "metadata": {},
   "outputs": [],
   "source": [
    "# Create KML object\n",
    "kml = simplekml.Kml()\n",
    "\n",
    "# Add placemarks for each city\n",
    "for city in tsp_path[:-1]:  # Avoid duplicating the last point\n",
    "    lat, lon = layout[city]\n",
    "    kml.newpoint(name=city, coords=[(lon, lat)])\n",
    "\n",
    "# Create a linestring for the path\n",
    "line_coords = [(layout[city][1], layout[city][0]) for city in tsp_path]\n",
    "linestring = kml.newlinestring(name=\"TSP Path\", coords=line_coords)\n",
    "linestring.style.linestyle.color = simplekml.Color.red\n",
    "linestring.style.linestyle.width = 3\n",
    "\n",
    "# Save the KML file\n",
    "kml.save(\"tsp_path.kml\")"
   ]
  }
 ],
 "metadata": {
  "accelerator": "GPU",
  "colab": {
   "gpuType": "T4",
   "provenance": [],
   "toc_visible": true
  },
  "kernelspec": {
   "display_name": "Python 3 (ipykernel)",
   "language": "python",
   "name": "python3"
  },
  "language_info": {
   "codemirror_mode": {
    "name": "ipython",
    "version": 3
   },
   "file_extension": ".py",
   "mimetype": "text/x-python",
   "name": "python",
   "nbconvert_exporter": "python",
   "pygments_lexer": "ipython3",
   "version": "3.13.0"
  }
 },
 "nbformat": 4,
 "nbformat_minor": 5
}
